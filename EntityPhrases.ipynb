{
 "cells": [
  {
   "cell_type": "code",
   "execution_count": 1,
   "metadata": {
    "colab": {},
    "colab_type": "code",
    "id": "wwOkSgdALiqB"
   },
   "outputs": [],
   "source": [
    "import pandas as pd\n",
    "import numpy as np"
   ]
  },
  {
   "cell_type": "code",
   "execution_count": 2,
   "metadata": {
    "colab": {
     "base_uri": "https://localhost:8080/",
     "height": 194
    },
    "colab_type": "code",
    "id": "F18J6Q1rupGI",
    "outputId": "59e74101-efc6-4c41-95bb-9f181c320678"
   },
   "outputs": [
    {
     "data": {
      "text/html": [
       "<div>\n",
       "<style scoped>\n",
       "    .dataframe tbody tr th:only-of-type {\n",
       "        vertical-align: middle;\n",
       "    }\n",
       "\n",
       "    .dataframe tbody tr th {\n",
       "        vertical-align: top;\n",
       "    }\n",
       "\n",
       "    .dataframe thead th {\n",
       "        text-align: right;\n",
       "    }\n",
       "</style>\n",
       "<table border=\"1\" class=\"dataframe\">\n",
       "  <thead>\n",
       "    <tr style=\"text-align: right;\">\n",
       "      <th></th>\n",
       "      <th>review no</th>\n",
       "      <th>restaurant</th>\n",
       "      <th>sentence no</th>\n",
       "      <th>words</th>\n",
       "      <th>algo_tag</th>\n",
       "      <th>Corrected</th>\n",
       "    </tr>\n",
       "  </thead>\n",
       "  <tbody>\n",
       "    <tr>\n",
       "      <th>0</th>\n",
       "      <td>0</td>\n",
       "      <td>1441 Pizzeria</td>\n",
       "      <td>0</td>\n",
       "      <td>I</td>\n",
       "      <td>O</td>\n",
       "      <td>0</td>\n",
       "    </tr>\n",
       "    <tr>\n",
       "      <th>1</th>\n",
       "      <td>0</td>\n",
       "      <td>1441 Pizzeria</td>\n",
       "      <td>0</td>\n",
       "      <td>visited</td>\n",
       "      <td>O</td>\n",
       "      <td>0</td>\n",
       "    </tr>\n",
       "    <tr>\n",
       "      <th>2</th>\n",
       "      <td>0</td>\n",
       "      <td>1441 Pizzeria</td>\n",
       "      <td>0</td>\n",
       "      <td>the</td>\n",
       "      <td>O</td>\n",
       "      <td>0</td>\n",
       "    </tr>\n",
       "    <tr>\n",
       "      <th>3</th>\n",
       "      <td>0</td>\n",
       "      <td>1441 Pizzeria</td>\n",
       "      <td>0</td>\n",
       "      <td>Fort</td>\n",
       "      <td>O</td>\n",
       "      <td>0</td>\n",
       "    </tr>\n",
       "    <tr>\n",
       "      <th>4</th>\n",
       "      <td>0</td>\n",
       "      <td>1441 Pizzeria</td>\n",
       "      <td>0</td>\n",
       "      <td>outlet</td>\n",
       "      <td>O</td>\n",
       "      <td>0</td>\n",
       "    </tr>\n",
       "  </tbody>\n",
       "</table>\n",
       "</div>"
      ],
      "text/plain": [
       "   review no     restaurant  sentence no    words algo_tag  Corrected\n",
       "0          0  1441 Pizzeria            0        I        O          0\n",
       "1          0  1441 Pizzeria            0  visited        O          0\n",
       "2          0  1441 Pizzeria            0      the        O          0\n",
       "3          0  1441 Pizzeria            0     Fort        O          0\n",
       "4          0  1441 Pizzeria            0   outlet        O          0"
      ]
     },
     "execution_count": 2,
     "metadata": {},
     "output_type": "execute_result"
    }
   ],
   "source": [
    "df = pd.read_excel('generalized_review_tokens_11_tagged_v3.xlsx',index_col=0)\n",
    "df['Corrected'] =0\n",
    "df.head()"
   ]
  },
  {
   "cell_type": "code",
   "execution_count": 3,
   "metadata": {
    "colab": {},
    "colab_type": "code",
    "id": "rvVewY06hjvc"
   },
   "outputs": [],
   "source": [
    "class sentenceGetter(object):\n",
    "    def __init__(self,df):\n",
    "        self.data = df\n",
    "        agg_func = lambda s: [ (w,t) for w,t in zip(s[\"words\"].tolist(),s[\"algo_tag\"].tolist())]\n",
    "        self.grouped = self.data.groupby([\"review no\",\"sentence no\"]).apply(agg_func)\n",
    "        self.sentences = [sentence for sentence in self.grouped]"
   ]
  },
  {
   "cell_type": "code",
   "execution_count": 4,
   "metadata": {
    "colab": {},
    "colab_type": "code",
    "id": "5wK7Fkbbik3s"
   },
   "outputs": [],
   "source": [
    "getter = sentenceGetter(df)\n",
    "sentences = getter.sentences # get word,entity pair"
   ]
  },
  {
   "cell_type": "code",
   "execution_count": 5,
   "metadata": {
    "colab": {
     "base_uri": "https://localhost:8080/",
     "height": 55
    },
    "colab_type": "code",
    "id": "so-m8vXbkJn7",
    "outputId": "6235db72-15fd-4e12-e029-7f14ae69f956"
   },
   "outputs": [
    {
     "name": "stdout",
     "output_type": "stream",
     "text": [
      "[[('I', 'O'), ('visited', 'O'), ('the', 'O'), ('Fort', 'O'), ('outlet', 'O'), ('and', 'O'), ('I', 'O'), ('wish', 'O'), ('to', 'O'), ('keep', 'O'), ('visitinggg', 'O'), ('..', 'O')], [('I', 'O'), ('happened', 'O'), ('to', 'O'), ('walk', 'O'), ('into', 'O'), ('the', 'O'), ('outlet', 'O'), ('on', 'O'), ('a', 'O'), ('Wednesday', 'O'), ('and', 'O'), ('guess', 'O'), ('what', 'O'), ('!', 'O')]]\n"
     ]
    }
   ],
   "source": [
    "print(sentences[:2])"
   ]
  },
  {
   "cell_type": "code",
   "execution_count": 6,
   "metadata": {
    "colab": {},
    "colab_type": "code",
    "id": "GicJRgV1kxwN"
   },
   "outputs": [],
   "source": [
    "reviews = [[str(pair[0]) for pair in sentence] for sentence in sentences]\n",
    "tags =  [[str(pair[1]) for pair in sentence] for sentence in sentences]"
   ]
  },
  {
   "cell_type": "code",
   "execution_count": 7,
   "metadata": {
    "colab": {},
    "colab_type": "code",
    "id": "xUf754CfXYpS"
   },
   "outputs": [],
   "source": [
    "import nltk\n",
    "from nltk import word_tokenize\n",
    "from nltk import pos_tag"
   ]
  },
  {
   "cell_type": "code",
   "execution_count": 8,
   "metadata": {
    "colab": {},
    "colab_type": "code",
    "id": "rdm4jWL77OMv"
   },
   "outputs": [
    {
     "name": "stderr",
     "output_type": "stream",
     "text": [
      "[nltk_data] Downloading package punkt to\n",
      "[nltk_data]     C:\\Users\\Admin\\AppData\\Roaming\\nltk_data...\n",
      "[nltk_data]   Package punkt is already up-to-date!\n",
      "[nltk_data] Downloading package averaged_perceptron_tagger to\n",
      "[nltk_data]     C:\\Users\\Admin\\AppData\\Roaming\\nltk_data...\n",
      "[nltk_data]   Package averaged_perceptron_tagger is already up-to-\n",
      "[nltk_data]       date!\n"
     ]
    },
    {
     "data": {
      "text/plain": [
       "True"
      ]
     },
     "execution_count": 8,
     "metadata": {},
     "output_type": "execute_result"
    }
   ],
   "source": [
    "nltk.download('punkt')\n",
    "nltk.download('averaged_perceptron_tagger')"
   ]
  },
  {
   "cell_type": "code",
   "execution_count": 9,
   "metadata": {
    "colab": {},
    "colab_type": "code",
    "id": "oj78JjcL63Gn"
   },
   "outputs": [],
   "source": [
    "pos_ =  [pos_tag(review) for review in reviews] \n",
    "pos = [[str(pair[1]) for pair in sentence] for sentence in pos_] # get pos"
   ]
  },
  {
   "cell_type": "code",
   "execution_count": 10,
   "metadata": {
    "colab": {
     "base_uri": "https://localhost:8080/",
     "height": 70
    },
    "colab_type": "code",
    "id": "LdyZgfHTl0V_",
    "outputId": "409a9b85-8426-405c-912a-fdb158426017"
   },
   "outputs": [
    {
     "name": "stdout",
     "output_type": "stream",
     "text": [
      "['I', 'chose', 'the', 'make', 'your', 'own', 'pizza', 'with', 'unlimited', 'toppings', '.']\n",
      "['O', 'O', 'O', 'O', 'O', 'O', 'E', 'O', 'O', 'E', 'O']\n",
      "['PRP', 'VBD', 'DT', 'VB', 'PRP$', 'JJ', 'NN', 'IN', 'JJ', 'NNS', '.']\n"
     ]
    }
   ],
   "source": [
    "print(reviews[3])\n",
    "print(tags[3])\n",
    "print(pos[3])"
   ]
  },
  {
   "cell_type": "code",
   "execution_count": 12,
   "metadata": {
    "colab": {},
    "colab_type": "code",
    "id": "TW6myuQ1oylp"
   },
   "outputs": [],
   "source": [
    "entity_tags =[] # get pos+E \n",
    "for i,sequence in enumerate(tags):\n",
    "    entity_tag =[]\n",
    "    for j,tag in enumerate(sequence):\n",
    "        if tag=='E':\n",
    "            entity_tag.append(sequence[j])\n",
    "        else:\n",
    "            entity_tag.append(pos[i][j])\n",
    "    entity_tags.append(entity_tag)"
   ]
  },
  {
   "cell_type": "code",
   "execution_count": 13,
   "metadata": {
    "colab": {
     "base_uri": "https://localhost:8080/",
     "height": 52
    },
    "colab_type": "code",
    "id": "vy_jgjR-rKnt",
    "outputId": "f93ae2ea-a370-4fc9-9e9c-3fc75a815a45"
   },
   "outputs": [
    {
     "name": "stdout",
     "output_type": "stream",
     "text": [
      "['I', 'chose', 'the', 'make', 'your', 'own', 'pizza', 'with', 'unlimited', 'toppings', '.']\n",
      "['PRP', 'VBD', 'DT', 'VB', 'PRP$', 'JJ', 'E', 'IN', 'JJ', 'E', '.']\n"
     ]
    }
   ],
   "source": [
    "print(reviews[3])\n",
    "print(entity_tags[3])"
   ]
  },
  {
   "cell_type": "code",
   "execution_count": 14,
   "metadata": {
    "colab": {},
    "colab_type": "code",
    "id": "1U0sLV7OxRFn"
   },
   "outputs": [],
   "source": [
    "sequences=[] # get word,entity_pos\n",
    "for sentence,tagseq in zip(reviews,entity_tags):\n",
    "    sequence =[]\n",
    "    for word,tag in zip(sentence,tagseq):\n",
    "        sequence.append((word,tag))\n",
    "    sequences.append(sequence)"
   ]
  },
  {
   "cell_type": "code",
   "execution_count": 113,
   "metadata": {
    "colab": {
     "base_uri": "https://localhost:8080/",
     "height": 35
    },
    "colab_type": "code",
    "id": "T2SS2YiJyITu",
    "outputId": "d6c257a9-839e-4347-d15b-e2c10d8f19ca"
   },
   "outputs": [
    {
     "data": {
      "text/plain": [
       "[('The', 'DT'), ('Burger', 'E'), ('was', 'VB'), ('very', 'RB'), ('good', 'JJ')]"
      ]
     },
     "execution_count": 113,
     "metadata": {},
     "output_type": "execute_result"
    }
   ],
   "source": [
    "test =[('The','DT'),('Burger','E'),('was','VB'),('very','RB'),('good','JJ')]\n",
    "test"
   ]
  },
  {
   "cell_type": "markdown",
   "metadata": {},
   "source": [
    "##### Test"
   ]
  },
  {
   "cell_type": "code",
   "execution_count": 164,
   "metadata": {},
   "outputs": [],
   "source": [
    "nva = \"PHRASE:{<E>*<CC>?<E><VB|VBP|VBN|VBD><RB>?<JJ|JJR|JJS|NN|NNS|NNP|NNPS>}\"\n",
    "an = \"PHRASE:{<RB>?<JJ|JJR|JJS><E>}\""
   ]
  },
  {
   "cell_type": "code",
   "execution_count": 165,
   "metadata": {
    "colab": {},
    "colab_type": "code",
    "id": "T-P47IO7s0bH"
   },
   "outputs": [],
   "source": [
    "from nltk import RegexpParser\n",
    "parser = RegexpParser(grammar=an)"
   ]
  },
  {
   "cell_type": "code",
   "execution_count": 166,
   "metadata": {
    "colab": {
     "base_uri": "https://localhost:8080/",
     "height": 405
    },
    "colab_type": "code",
    "id": "CmVq7vIbwQdF",
    "outputId": "e7d1daf7-a085-43f9-b16f-2b91243751dc"
   },
   "outputs": [
    {
     "data": {
      "image/png": "[encoded data removed]",
      "text/plain": [
       "Tree('S', [('The', 'DT'), ('Burger', 'E'), ('was', 'VB'), ('very', 'RB'), ('good', 'JJ')])"
      ]
     },
     "execution_count": 166,
     "metadata": {},
     "output_type": "execute_result"
    }
   ],
   "source": [
    "ress =parser.parse(test) ## Need ghostscript to draw tree\n",
    "ress"
   ]
  },
  {
   "cell_type": "code",
   "execution_count": 167,
   "metadata": {
    "colab": {
     "base_uri": "https://localhost:8080/",
     "height": 124
    },
    "colab_type": "code",
    "id": "-UpezxSxw5xI",
    "outputId": "57200375-df2f-46ca-c6f8-cb33a2ba1874"
   },
   "outputs": [
    {
     "name": "stdout",
     "output_type": "stream",
     "text": [
      "(S The/DT Burger/E was/VB very/RB good/JJ)\n"
     ]
    }
   ],
   "source": [
    "print(ress)"
   ]
  },
  {
   "cell_type": "markdown",
   "metadata": {},
   "source": [
    "##### Test END"
   ]
  },
  {
   "cell_type": "code",
   "execution_count": 168,
   "metadata": {
    "colab": {},
    "colab_type": "code",
    "id": "nOLTau0LzeIt"
   },
   "outputs": [],
   "source": [
    "sample = sequences[:100]"
   ]
  },
  {
   "cell_type": "code",
   "execution_count": 169,
   "metadata": {},
   "outputs": [],
   "source": [
    "results=[]\n",
    "for x in sample:\n",
    "    results.append(parser.parse(x))"
   ]
  },
  {
   "cell_type": "code",
   "execution_count": 173,
   "metadata": {},
   "outputs": [
    {
     "name": "stdout",
     "output_type": "stream",
     "text": [
      "(PHRASE own/JJ pizza/E)\n",
      "(PHRASE unlimited/JJ toppings/E)\n",
      "(PHRASE first/JJ pizza/E)\n",
      "(PHRASE handcrafted/JJ pizza/E)\n",
      "(PHRASE own/JJ pizza/E)\n",
      "(PHRASE own/JJ choice/E)\n",
      "(PHRASE best/JJS toppings/E)\n",
      "(PHRASE 1-/JJ Lichi/E)\n",
      "(PHRASE 2-/JJ Peach/E)\n",
      "(PHRASE own/JJ pizza/E)\n",
      "(PHRASE own/JJ gourmet/E)\n",
      "(PHRASE 6-/JJ Potato/E)\n",
      "(PHRASE */JJ SPECIALS/E)\n",
      "(PHRASE •/JJ Cheese/E)\n",
      "(PHRASE */JJ PIZZA/E)\n",
      "(PHRASE •/JJ Bbq/E)\n",
      "(PHRASE •/JJ Chocolate/E)\n",
      "(PHRASE own/JJ pizzas/E)\n",
      "(PHRASE traditional/JJ pizzas/E)\n",
      "(PHRASE bestest/JJS pizzas/E)\n",
      "(PHRASE own/JJ pizza/E)\n",
      "(PHRASE own/JJ choice/E)\n",
      "(PHRASE woodfired/JJ style/E)\n",
      "(PHRASE 1-/JJ Masala/E)\n",
      "(PHRASE 2-/JJ Lemon/E)\n",
      "(PHRASE Simple/JJ classic/E)\n",
      "(PHRASE 6-/JJ Margarita/E)\n",
      "(PHRASE Smoked/JJ Spicy/E)\n",
      "(PHRASE really/RB different/JJ set/E)\n",
      "(PHRASE 8-/JJ Hazelnut/E)\n",
      "(PHRASE delicious/JJ garlic/E)\n",
      "(PHRASE own/JJ pizza/E)\n",
      "(PHRASE unlimited/JJ toppings/E)\n",
      "Total Phrases Found 33\n"
     ]
    }
   ],
   "source": [
    "c=0\n",
    "for result in results:\n",
    "    for ele in result:\n",
    "        if type(ele)==nltk.tree.Tree:\n",
    "            c+=1\n",
    "            print(ele)\n",
    "print(\"Total Phrases Found\",c)"
   ]
  },
  {
   "cell_type": "code",
   "execution_count": null,
   "metadata": {},
   "outputs": [],
   "source": []
  }
 ],
 "metadata": {
  "colab": {
   "name": "foodie.ipynb",
   "provenance": []
  },
  "kernelspec": {
   "display_name": "Python 3",
   "language": "python",
   "name": "python3"
  },
  "language_info": {
   "codemirror_mode": {
    "name": "ipython",
    "version": 3
   },
   "file_extension": ".py",
   "mimetype": "text/x-python",
   "name": "python",
   "nbconvert_exporter": "python",
   "pygments_lexer": "ipython3",
   "version": "3.7.3"
  }
 },
 "nbformat": 4,
 "nbformat_minor": 1
}
