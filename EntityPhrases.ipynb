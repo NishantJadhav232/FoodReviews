{
 "cells": [
  {
   "cell_type": "code",
   "execution_count": 1,
   "metadata": {
    "colab": {},
    "colab_type": "code",
    "id": "wwOkSgdALiqB"
   },
   "outputs": [],
   "source": [
    "import pandas as pd\n",
    "import numpy as np"
   ]
  },
  {
   "cell_type": "code",
   "execution_count": 404,
   "metadata": {
    "colab": {
     "base_uri": "https://localhost:8080/",
     "height": 194
    },
    "colab_type": "code",
    "id": "F18J6Q1rupGI",
    "outputId": "59e74101-efc6-4c41-95bb-9f181c320678"
   },
   "outputs": [
    {
     "data": {
      "text/html": [
       "<div>\n",
       "<style scoped>\n",
       "    .dataframe tbody tr th:only-of-type {\n",
       "        vertical-align: middle;\n",
       "    }\n",
       "\n",
       "    .dataframe tbody tr th {\n",
       "        vertical-align: top;\n",
       "    }\n",
       "\n",
       "    .dataframe thead th {\n",
       "        text-align: right;\n",
       "    }\n",
       "</style>\n",
       "<table border=\"1\" class=\"dataframe\">\n",
       "  <thead>\n",
       "    <tr style=\"text-align: right;\">\n",
       "      <th></th>\n",
       "      <th>review no</th>\n",
       "      <th>restaurant</th>\n",
       "      <th>sentence no</th>\n",
       "      <th>words</th>\n",
       "      <th>algo_tag</th>\n",
       "      <th>Corrected</th>\n",
       "    </tr>\n",
       "  </thead>\n",
       "  <tbody>\n",
       "    <tr>\n",
       "      <th>0</th>\n",
       "      <td>0</td>\n",
       "      <td>1441 Pizzeria</td>\n",
       "      <td>0</td>\n",
       "      <td>I</td>\n",
       "      <td>O</td>\n",
       "      <td>0</td>\n",
       "    </tr>\n",
       "    <tr>\n",
       "      <th>1</th>\n",
       "      <td>0</td>\n",
       "      <td>1441 Pizzeria</td>\n",
       "      <td>0</td>\n",
       "      <td>visited</td>\n",
       "      <td>O</td>\n",
       "      <td>0</td>\n",
       "    </tr>\n",
       "    <tr>\n",
       "      <th>2</th>\n",
       "      <td>0</td>\n",
       "      <td>1441 Pizzeria</td>\n",
       "      <td>0</td>\n",
       "      <td>the</td>\n",
       "      <td>O</td>\n",
       "      <td>0</td>\n",
       "    </tr>\n",
       "    <tr>\n",
       "      <th>3</th>\n",
       "      <td>0</td>\n",
       "      <td>1441 Pizzeria</td>\n",
       "      <td>0</td>\n",
       "      <td>Fort</td>\n",
       "      <td>O</td>\n",
       "      <td>0</td>\n",
       "    </tr>\n",
       "    <tr>\n",
       "      <th>4</th>\n",
       "      <td>0</td>\n",
       "      <td>1441 Pizzeria</td>\n",
       "      <td>0</td>\n",
       "      <td>outlet</td>\n",
       "      <td>O</td>\n",
       "      <td>0</td>\n",
       "    </tr>\n",
       "  </tbody>\n",
       "</table>\n",
       "</div>"
      ],
      "text/plain": [
       "   review no     restaurant  sentence no    words algo_tag  Corrected\n",
       "0          0  1441 Pizzeria            0        I        O          0\n",
       "1          0  1441 Pizzeria            0  visited        O          0\n",
       "2          0  1441 Pizzeria            0      the        O          0\n",
       "3          0  1441 Pizzeria            0     Fort        O          0\n",
       "4          0  1441 Pizzeria            0   outlet        O          0"
      ]
     },
     "execution_count": 404,
     "metadata": {},
     "output_type": "execute_result"
    }
   ],
   "source": [
    "df = pd.read_excel('generalized_review_tokens_11_tagged_v3.xlsx',index_col=0)\n",
    "df['Corrected'] =0\n",
    "df.head()"
   ]
  },
  {
   "cell_type": "code",
   "execution_count": 409,
   "metadata": {
    "colab": {},
    "colab_type": "code",
    "id": "rvVewY06hjvc"
   },
   "outputs": [],
   "source": [
    "class sentenceGetter(object):\n",
    "    def __init__(self,df):\n",
    "        self.data = df\n",
    "        agg_func = lambda s: [ (w,t,r,rn) for w,t,r,rn in zip(s[\"words\"].tolist(),s[\"algo_tag\"].tolist(),s[\"restaurant\"].tolist(),s[\"review no\"].tolist())]\n",
    "        self.grouped = self.data.groupby([\"review no\",\"sentence no\"]).apply(agg_func)\n",
    "        self.sentences = [sentence for sentence in self.grouped]"
   ]
  },
  {
   "cell_type": "code",
   "execution_count": 410,
   "metadata": {},
   "outputs": [
    {
     "data": {
      "text/plain": [
       "Index(['review no', 'restaurant', 'sentence no', 'words', 'algo_tag',\n",
       "       'Corrected'],\n",
       "      dtype='object')"
      ]
     },
     "execution_count": 410,
     "metadata": {},
     "output_type": "execute_result"
    }
   ],
   "source": [
    "df.columns"
   ]
  },
  {
   "cell_type": "code",
   "execution_count": 411,
   "metadata": {
    "colab": {},
    "colab_type": "code",
    "id": "5wK7Fkbbik3s"
   },
   "outputs": [],
   "source": [
    "getter = sentenceGetter(df)\n",
    "sentences = getter.sentences # get word,entity pair"
   ]
  },
  {
   "cell_type": "code",
   "execution_count": 412,
   "metadata": {
    "colab": {
     "base_uri": "https://localhost:8080/",
     "height": 55
    },
    "colab_type": "code",
    "id": "so-m8vXbkJn7",
    "outputId": "6235db72-15fd-4e12-e029-7f14ae69f956"
   },
   "outputs": [
    {
     "name": "stdout",
     "output_type": "stream",
     "text": [
      "[[('I', 'O', '1441 Pizzeria', 0), ('visited', 'O', '1441 Pizzeria', 0), ('the', 'O', '1441 Pizzeria', 0), ('Fort', 'O', '1441 Pizzeria', 0), ('outlet', 'O', '1441 Pizzeria', 0), ('and', 'O', '1441 Pizzeria', 0), ('I', 'O', '1441 Pizzeria', 0), ('wish', 'O', '1441 Pizzeria', 0), ('to', 'O', '1441 Pizzeria', 0), ('keep', 'O', '1441 Pizzeria', 0), ('visitinggg', 'O', '1441 Pizzeria', 0), ('..', 'O', '1441 Pizzeria', 0)], [('I', 'O', '1441 Pizzeria', 0), ('happened', 'O', '1441 Pizzeria', 0), ('to', 'O', '1441 Pizzeria', 0), ('walk', 'O', '1441 Pizzeria', 0), ('into', 'O', '1441 Pizzeria', 0), ('the', 'O', '1441 Pizzeria', 0), ('outlet', 'O', '1441 Pizzeria', 0), ('on', 'O', '1441 Pizzeria', 0), ('a', 'O', '1441 Pizzeria', 0), ('Wednesday', 'O', '1441 Pizzeria', 0), ('and', 'O', '1441 Pizzeria', 0), ('guess', 'O', '1441 Pizzeria', 0), ('what', 'O', '1441 Pizzeria', 0), ('!', 'O', '1441 Pizzeria', 0)]]\n"
     ]
    }
   ],
   "source": [
    "print(sentences[:2])"
   ]
  },
  {
   "cell_type": "code",
   "execution_count": 413,
   "metadata": {
    "colab": {},
    "colab_type": "code",
    "id": "GicJRgV1kxwN"
   },
   "outputs": [],
   "source": [
    "reviews = [[str(pair[0]) for pair in sentence] for sentence in sentences]\n",
    "tags =  [[str(pair[1]) for pair in sentence] for sentence in sentences]\n",
    "hotels = [list(set([str(pair[2]) for pair in sentence])) for sentence in sentences]\n",
    "review_no = [list(set([str(pair[3]) for pair in sentence])) for sentence in sentences]"
   ]
  },
  {
   "cell_type": "code",
   "execution_count": 7,
   "metadata": {
    "colab": {},
    "colab_type": "code",
    "id": "xUf754CfXYpS"
   },
   "outputs": [],
   "source": [
    "import nltk\n",
    "from nltk import word_tokenize\n",
    "from nltk import pos_tag"
   ]
  },
  {
   "cell_type": "code",
   "execution_count": 8,
   "metadata": {
    "colab": {},
    "colab_type": "code",
    "id": "rdm4jWL77OMv"
   },
   "outputs": [
    {
     "name": "stderr",
     "output_type": "stream",
     "text": [
      "[nltk_data] Downloading package punkt to\n",
      "[nltk_data]     C:\\Users\\Admin\\AppData\\Roaming\\nltk_data...\n",
      "[nltk_data]   Package punkt is already up-to-date!\n",
      "[nltk_data] Downloading package averaged_perceptron_tagger to\n",
      "[nltk_data]     C:\\Users\\Admin\\AppData\\Roaming\\nltk_data...\n",
      "[nltk_data]   Package averaged_perceptron_tagger is already up-to-\n",
      "[nltk_data]       date!\n"
     ]
    },
    {
     "data": {
      "text/plain": [
       "True"
      ]
     },
     "execution_count": 8,
     "metadata": {},
     "output_type": "execute_result"
    }
   ],
   "source": [
    "nltk.download('punkt')\n",
    "nltk.download('averaged_perceptron_tagger')"
   ]
  },
  {
   "cell_type": "code",
   "execution_count": 9,
   "metadata": {
    "colab": {},
    "colab_type": "code",
    "id": "oj78JjcL63Gn"
   },
   "outputs": [],
   "source": [
    "pos_ =  [pos_tag(review) for review in reviews] \n",
    "pos = [[str(pair[1]) for pair in sentence] for sentence in pos_] # get pos"
   ]
  },
  {
   "cell_type": "code",
   "execution_count": 10,
   "metadata": {
    "colab": {
     "base_uri": "https://localhost:8080/",
     "height": 70
    },
    "colab_type": "code",
    "id": "LdyZgfHTl0V_",
    "outputId": "409a9b85-8426-405c-912a-fdb158426017"
   },
   "outputs": [
    {
     "name": "stdout",
     "output_type": "stream",
     "text": [
      "['I', 'chose', 'the', 'make', 'your', 'own', 'pizza', 'with', 'unlimited', 'toppings', '.']\n",
      "['O', 'O', 'O', 'O', 'O', 'O', 'E', 'O', 'O', 'E', 'O']\n",
      "['PRP', 'VBD', 'DT', 'VB', 'PRP$', 'JJ', 'NN', 'IN', 'JJ', 'NNS', '.']\n"
     ]
    }
   ],
   "source": [
    "print(reviews[3])\n",
    "print(tags[3])\n",
    "print(pos[3])"
   ]
  },
  {
   "cell_type": "code",
   "execution_count": 12,
   "metadata": {
    "colab": {},
    "colab_type": "code",
    "id": "TW6myuQ1oylp"
   },
   "outputs": [],
   "source": [
    "entity_tags =[] # get pos+E \n",
    "for i,sequence in enumerate(tags):\n",
    "    entity_tag =[]\n",
    "    for j,tag in enumerate(sequence):\n",
    "        if tag=='E':\n",
    "            entity_tag.append(sequence[j])\n",
    "        else:\n",
    "            entity_tag.append(pos[i][j])\n",
    "    entity_tags.append(entity_tag)"
   ]
  },
  {
   "cell_type": "code",
   "execution_count": 13,
   "metadata": {
    "colab": {
     "base_uri": "https://localhost:8080/",
     "height": 52
    },
    "colab_type": "code",
    "id": "vy_jgjR-rKnt",
    "outputId": "f93ae2ea-a370-4fc9-9e9c-3fc75a815a45"
   },
   "outputs": [
    {
     "name": "stdout",
     "output_type": "stream",
     "text": [
      "['I', 'chose', 'the', 'make', 'your', 'own', 'pizza', 'with', 'unlimited', 'toppings', '.']\n",
      "['PRP', 'VBD', 'DT', 'VB', 'PRP$', 'JJ', 'E', 'IN', 'JJ', 'E', '.']\n"
     ]
    }
   ],
   "source": [
    "print(reviews[3])\n",
    "print(entity_tags[3])"
   ]
  },
  {
   "cell_type": "code",
   "execution_count": 209,
   "metadata": {
    "colab": {},
    "colab_type": "code",
    "id": "1U0sLV7OxRFn"
   },
   "outputs": [],
   "source": [
    "# sequences=[] # get word,entity_pos\n",
    "# for sentence,tagseq in zip(reviews,entity_tags):\n",
    "#     sequence =[]\n",
    "#     for word,tag in zip(sentence,tagseq):\n",
    "#         sequence.append((word,tag))\n",
    "#     sequences.append(sequence)"
   ]
  },
  {
   "cell_type": "code",
   "execution_count": 210,
   "metadata": {},
   "outputs": [],
   "source": [
    "ids=[]\n",
    "e_tags = []\n",
    "e_reviews =[]\n",
    "for i,(rev,seq) in enumerate(zip(reviews,entity_tags)):\n",
    "    if 'E' in seq:\n",
    "        e_reviews.append(rev)\n",
    "        e_tags.append(seq)\n",
    "        ids.append(i)"
   ]
  },
  {
   "cell_type": "markdown",
   "metadata": {},
   "source": [
    "##### Test"
   ]
  },
  {
   "cell_type": "code",
   "execution_count": 264,
   "metadata": {},
   "outputs": [],
   "source": [
    "nva = \"PHRASE:{(<JJ|JJR|JJS|NN|NNS|NNP|NNPS>?<E>+<CC>)?<JJ|JJR|JJS|NN|NNS|NNP|NNPS>?<E>+<VB|VBP|VBN|VBD><RB>?<JJ|JJR|JJS|NN|NNS|NNP|NNPS>+}\"\n",
    "an = \"PHRASE:{<RB>?<JJ|JJR|JJS><E>+}\""
   ]
  },
  {
   "cell_type": "code",
   "execution_count": 265,
   "metadata": {
    "colab": {},
    "colab_type": "code",
    "id": "T-P47IO7s0bH"
   },
   "outputs": [],
   "source": [
    "from nltk import RegexpParser\n",
    "parser = RegexpParser(grammar=nva)"
   ]
  },
  {
   "cell_type": "code",
   "execution_count": 266,
   "metadata": {
    "colab": {
     "base_uri": "https://localhost:8080/",
     "height": 35
    },
    "colab_type": "code",
    "id": "T2SS2YiJyITu",
    "outputId": "d6c257a9-839e-4347-d15b-e2c10d8f19ca"
   },
   "outputs": [
    {
     "data": {
      "text/plain": [
       "[('The', 'DT'),\n",
       " ('Burger', 'E'),\n",
       " ('and', 'CC'),\n",
       " ('Pizza', 'E'),\n",
       " ('was', 'VB'),\n",
       " ('very', 'RB'),\n",
       " ('good', 'JJ')]"
      ]
     },
     "execution_count": 266,
     "metadata": {},
     "output_type": "execute_result"
    }
   ],
   "source": [
    "test =[('The','DT'),('Burger','E'),('and','CC'),('Pizza','E'),('was','VB'),('very','RB'),('good','JJ')]\n",
    "test"
   ]
  },
  {
   "cell_type": "code",
   "execution_count": 267,
   "metadata": {
    "colab": {
     "base_uri": "https://localhost:8080/",
     "height": 405
    },
    "colab_type": "code",
    "id": "CmVq7vIbwQdF",
    "outputId": "e7d1daf7-a085-43f9-b16f-2b91243751dc"
   },
   "outputs": [
    {
     "data": {
      "image/png": "[encoded data removed]",
      "text/plain": [
       "Tree('S', [('The', 'DT'), Tree('PHRASE', [('Burger', 'E'), ('and', 'CC'), ('Pizza', 'E'), ('was', 'VB'), ('very', 'RB'), ('good', 'JJ')])])"
      ]
     },
     "execution_count": 267,
     "metadata": {},
     "output_type": "execute_result"
    }
   ],
   "source": [
    "ress =parser.parse(test) ## Need ghostscript to draw tree\n",
    "ress"
   ]
  },
  {
   "cell_type": "code",
   "execution_count": 268,
   "metadata": {
    "colab": {
     "base_uri": "https://localhost:8080/",
     "height": 124
    },
    "colab_type": "code",
    "id": "-UpezxSxw5xI",
    "outputId": "57200375-df2f-46ca-c6f8-cb33a2ba1874"
   },
   "outputs": [
    {
     "name": "stdout",
     "output_type": "stream",
     "text": [
      "(S The/DT (PHRASE Burger/E and/CC Pizza/E was/VB very/RB good/JJ))\n"
     ]
    }
   ],
   "source": [
    "print(ress)"
   ]
  },
  {
   "cell_type": "markdown",
   "metadata": {},
   "source": [
    "#### Only E sents"
   ]
  },
  {
   "cell_type": "code",
   "execution_count": 284,
   "metadata": {},
   "outputs": [
    {
     "name": "stdout",
     "output_type": "stream",
     "text": [
      "7172\n",
      "7172\n",
      "7172\n",
      "7172\n",
      "3618\n",
      "3618\n"
     ]
    }
   ],
   "source": [
    "print(len(sequences))\n",
    "print(len(hotels))\n",
    "print(len(reviews))\n",
    "print(len(entity_tags))\n",
    "print(len(e_reviews))\n",
    "print(len(e_tags))"
   ]
  },
  {
   "cell_type": "code",
   "execution_count": 424,
   "metadata": {},
   "outputs": [],
   "source": [
    "parser = RegexpParser(grammar=an) # choose grammar rule\n",
    "results=[]\n",
    "for x in sequences:\n",
    "    results.append(parser.parse(x))\n",
    "phrases =[]\n",
    "c=0\n",
    "for result in results:\n",
    "    res =[]\n",
    "    f=0\n",
    "    for ele in result:\n",
    "        #print(ele)\n",
    "        if type(ele)==nltk.tree.Tree:\n",
    "            #print(list(ele))\n",
    "            sent= ' '.join([word[0] for word in list(ele)])\n",
    "            res.append(sent)\n",
    "            f=1\n",
    "            c+=1\n",
    "    if f==0:\n",
    "        res.append('NULL')\n",
    "    phrases.append(res)\n",
    "phrases_an = np.array(phrases)"
   ]
  },
  {
   "cell_type": "code",
   "execution_count": 425,
   "metadata": {},
   "outputs": [
    {
     "name": "stdout",
     "output_type": "stream",
     "text": [
      "Total Phrases Found 818\n"
     ]
    }
   ],
   "source": [
    "print(\"Total Phrases Found\",c)"
   ]
  },
  {
   "cell_type": "code",
   "execution_count": 283,
   "metadata": {},
   "outputs": [
    {
     "name": "stdout",
     "output_type": "stream",
     "text": [
      "7172\n"
     ]
    }
   ],
   "source": [
    "print(len(results))"
   ]
  },
  {
   "cell_type": "code",
   "execution_count": 271,
   "metadata": {},
   "outputs": [
    {
     "name": "stdout",
     "output_type": "stream",
     "text": [
      "Total Phrases Found 818\n"
     ]
    }
   ],
   "source": [
    "print(\"Total Phrases Found\",c)"
   ]
  },
  {
   "cell_type": "code",
   "execution_count": 421,
   "metadata": {},
   "outputs": [],
   "source": [
    "parser = RegexpParser(grammar=nva) # choose grammar rule\n",
    "results=[]\n",
    "for x in sequences:\n",
    "    results.append(parser.parse(x))\n",
    "phrases =[]\n",
    "c=0\n",
    "for result in results:\n",
    "    res =[]\n",
    "    f=0\n",
    "    for ele in result:\n",
    "        #print(ele)\n",
    "        if type(ele)==nltk.tree.Tree:\n",
    "            #print(list(ele))\n",
    "            sent= ' '.join([word[0] for word in list(ele)])\n",
    "            res.append(sent)\n",
    "            f=1\n",
    "            c+=1\n",
    "    if f==0:\n",
    "        res.append('NULL')\n",
    "    phrases.append(res)\n",
    "phrases_nva = np.array(phrases)"
   ]
  },
  {
   "cell_type": "code",
   "execution_count": 363,
   "metadata": {},
   "outputs": [
    {
     "name": "stdout",
     "output_type": "stream",
     "text": [
      "Total Phrases Found 224\n"
     ]
    }
   ],
   "source": [
    "print(\"Total Phrases Found\",c)"
   ]
  },
  {
   "cell_type": "code",
   "execution_count": 396,
   "metadata": {},
   "outputs": [],
   "source": [
    "def replace_null(text):\n",
    "    #print(text[0])\n",
    "    if text[0]=='NULL':\n",
    "        return 0\n",
    "    else: return text"
   ]
  },
  {
   "cell_type": "code",
   "execution_count": 434,
   "metadata": {},
   "outputs": [
    {
     "name": "stdout",
     "output_type": "stream",
     "text": [
      "(7172, 5)\n"
     ]
    }
   ],
   "source": [
    "df0 =  pd.DataFrame(review_no,columns=['review no'])\n",
    "df1 = pd.DataFrame([' '.join(review) for review in reviews],columns=['reviews'])\n",
    "df2 = pd.DataFrame(hotels,columns=['hotels'])\n",
    "df3 = pd.DataFrame(phrases_nva,columns=['phrases_nva'])\n",
    "df4 = pd.DataFrame(phrases_an,columns=['phrases_an'])\n",
    "final = pd.concat([df0,df1,df2,df3,df4],axis=1)\n",
    "print(final.shape)\n",
    "final.head()\n",
    "final['phrases_nva'] =final.phrases_nva.apply(replace_null)\n",
    "final['phrases_an'] =final.phrases_an.apply(replace_null)"
   ]
  },
  {
   "cell_type": "code",
   "execution_count": 435,
   "metadata": {},
   "outputs": [
    {
     "data": {
      "text/html": [
       "<div>\n",
       "<style scoped>\n",
       "    .dataframe tbody tr th:only-of-type {\n",
       "        vertical-align: middle;\n",
       "    }\n",
       "\n",
       "    .dataframe tbody tr th {\n",
       "        vertical-align: top;\n",
       "    }\n",
       "\n",
       "    .dataframe thead th {\n",
       "        text-align: right;\n",
       "    }\n",
       "</style>\n",
       "<table border=\"1\" class=\"dataframe\">\n",
       "  <thead>\n",
       "    <tr style=\"text-align: right;\">\n",
       "      <th></th>\n",
       "      <th>review no</th>\n",
       "      <th>reviews</th>\n",
       "      <th>hotels</th>\n",
       "      <th>phrases_nva</th>\n",
       "      <th>phrases_an</th>\n",
       "    </tr>\n",
       "  </thead>\n",
       "  <tbody>\n",
       "    <tr>\n",
       "      <th>0</th>\n",
       "      <td>0</td>\n",
       "      <td>I visited the Fort outlet and I wish to keep v...</td>\n",
       "      <td>1441 Pizzeria</td>\n",
       "      <td>0</td>\n",
       "      <td>0</td>\n",
       "    </tr>\n",
       "    <tr>\n",
       "      <th>1</th>\n",
       "      <td>0</td>\n",
       "      <td>I happened to walk into the outlet on a Wednes...</td>\n",
       "      <td>1441 Pizzeria</td>\n",
       "      <td>0</td>\n",
       "      <td>0</td>\n",
       "    </tr>\n",
       "    <tr>\n",
       "      <th>2</th>\n",
       "      <td>0</td>\n",
       "      <td>We were delighted the the BOGO offer .</td>\n",
       "      <td>1441 Pizzeria</td>\n",
       "      <td>0</td>\n",
       "      <td>0</td>\n",
       "    </tr>\n",
       "    <tr>\n",
       "      <th>3</th>\n",
       "      <td>0</td>\n",
       "      <td>I chose the make your own pizza with unlimited...</td>\n",
       "      <td>1441 Pizzeria</td>\n",
       "      <td>0</td>\n",
       "      <td>[own pizza, unlimited toppings]</td>\n",
       "    </tr>\n",
       "    <tr>\n",
       "      <th>4</th>\n",
       "      <td>0</td>\n",
       "      <td>I literary turned into a kid making my pizza .</td>\n",
       "      <td>1441 Pizzeria</td>\n",
       "      <td>0</td>\n",
       "      <td>0</td>\n",
       "    </tr>\n",
       "  </tbody>\n",
       "</table>\n",
       "</div>"
      ],
      "text/plain": [
       "  review no                                            reviews         hotels  \\\n",
       "0         0  I visited the Fort outlet and I wish to keep v...  1441 Pizzeria   \n",
       "1         0  I happened to walk into the outlet on a Wednes...  1441 Pizzeria   \n",
       "2         0             We were delighted the the BOGO offer .  1441 Pizzeria   \n",
       "3         0  I chose the make your own pizza with unlimited...  1441 Pizzeria   \n",
       "4         0     I literary turned into a kid making my pizza .  1441 Pizzeria   \n",
       "\n",
       "  phrases_nva                       phrases_an  \n",
       "0           0                                0  \n",
       "1           0                                0  \n",
       "2           0                                0  \n",
       "3           0  [own pizza, unlimited toppings]  \n",
       "4           0                                0  "
      ]
     },
     "execution_count": 435,
     "metadata": {},
     "output_type": "execute_result"
    }
   ],
   "source": [
    "final.head()"
   ]
  },
  {
   "cell_type": "code",
   "execution_count": 436,
   "metadata": {},
   "outputs": [
    {
     "data": {
      "text/plain": [
       "(967, 5)"
      ]
     },
     "execution_count": 436,
     "metadata": {},
     "output_type": "execute_result"
    }
   ],
   "source": [
    "final[(final.phrases_nva!=0) | (final.phrases_an!=0)].shape"
   ]
  },
  {
   "cell_type": "code",
   "execution_count": 437,
   "metadata": {},
   "outputs": [
    {
     "data": {
      "text/html": [
       "<div>\n",
       "<style scoped>\n",
       "    .dataframe tbody tr th:only-of-type {\n",
       "        vertical-align: middle;\n",
       "    }\n",
       "\n",
       "    .dataframe tbody tr th {\n",
       "        vertical-align: top;\n",
       "    }\n",
       "\n",
       "    .dataframe thead th {\n",
       "        text-align: right;\n",
       "    }\n",
       "</style>\n",
       "<table border=\"1\" class=\"dataframe\">\n",
       "  <thead>\n",
       "    <tr style=\"text-align: right;\">\n",
       "      <th></th>\n",
       "      <th>review no</th>\n",
       "      <th>reviews</th>\n",
       "      <th>phrases_nva</th>\n",
       "      <th>phrases_an</th>\n",
       "    </tr>\n",
       "    <tr>\n",
       "      <th>hotels</th>\n",
       "      <th></th>\n",
       "      <th></th>\n",
       "      <th></th>\n",
       "      <th></th>\n",
       "    </tr>\n",
       "  </thead>\n",
       "  <tbody>\n",
       "    <tr>\n",
       "      <th>1441 Pizzeria</th>\n",
       "      <td>198</td>\n",
       "      <td>198</td>\n",
       "      <td>198</td>\n",
       "      <td>198</td>\n",
       "    </tr>\n",
       "    <tr>\n",
       "      <th>5 Spice</th>\n",
       "      <td>69</td>\n",
       "      <td>69</td>\n",
       "      <td>69</td>\n",
       "      <td>69</td>\n",
       "    </tr>\n",
       "    <tr>\n",
       "      <th>Aaswad</th>\n",
       "      <td>108</td>\n",
       "      <td>108</td>\n",
       "      <td>108</td>\n",
       "      <td>108</td>\n",
       "    </tr>\n",
       "    <tr>\n",
       "      <th>Amar Juice Centre</th>\n",
       "      <td>57</td>\n",
       "      <td>57</td>\n",
       "      <td>57</td>\n",
       "      <td>57</td>\n",
       "    </tr>\n",
       "    <tr>\n",
       "      <th>Cafe Mondegar</th>\n",
       "      <td>57</td>\n",
       "      <td>57</td>\n",
       "      <td>57</td>\n",
       "      <td>57</td>\n",
       "    </tr>\n",
       "    <tr>\n",
       "      <th>Delhi Darbar</th>\n",
       "      <td>100</td>\n",
       "      <td>100</td>\n",
       "      <td>100</td>\n",
       "      <td>100</td>\n",
       "    </tr>\n",
       "    <tr>\n",
       "      <th>Elco</th>\n",
       "      <td>72</td>\n",
       "      <td>72</td>\n",
       "      <td>72</td>\n",
       "      <td>72</td>\n",
       "    </tr>\n",
       "    <tr>\n",
       "      <th>Guru Kripa</th>\n",
       "      <td>91</td>\n",
       "      <td>91</td>\n",
       "      <td>91</td>\n",
       "      <td>91</td>\n",
       "    </tr>\n",
       "    <tr>\n",
       "      <th>Pop Tate's</th>\n",
       "      <td>53</td>\n",
       "      <td>53</td>\n",
       "      <td>53</td>\n",
       "      <td>53</td>\n",
       "    </tr>\n",
       "    <tr>\n",
       "      <th>Prithvi cafe</th>\n",
       "      <td>64</td>\n",
       "      <td>64</td>\n",
       "      <td>64</td>\n",
       "      <td>64</td>\n",
       "    </tr>\n",
       "    <tr>\n",
       "      <th>Shalimar</th>\n",
       "      <td>98</td>\n",
       "      <td>98</td>\n",
       "      <td>98</td>\n",
       "      <td>98</td>\n",
       "    </tr>\n",
       "  </tbody>\n",
       "</table>\n",
       "</div>"
      ],
      "text/plain": [
       "                   review no  reviews  phrases_nva  phrases_an\n",
       "hotels                                                        \n",
       "1441 Pizzeria            198      198          198         198\n",
       "5 Spice                   69       69           69          69\n",
       "Aaswad                   108      108          108         108\n",
       "Amar Juice Centre         57       57           57          57\n",
       "Cafe Mondegar             57       57           57          57\n",
       "Delhi Darbar             100      100          100         100\n",
       "Elco                      72       72           72          72\n",
       "Guru Kripa                91       91           91          91\n",
       "Pop Tate's                53       53           53          53\n",
       "Prithvi cafe              64       64           64          64\n",
       "Shalimar                  98       98           98          98"
      ]
     },
     "execution_count": 437,
     "metadata": {},
     "output_type": "execute_result"
    }
   ],
   "source": [
    "final[(final.phrases_nva!=0) | (final.phrases_an!=0)].groupby('hotels').count()"
   ]
  },
  {
   "cell_type": "code",
   "execution_count": 441,
   "metadata": {},
   "outputs": [
    {
     "data": {
      "text/html": [
       "<div>\n",
       "<style scoped>\n",
       "    .dataframe tbody tr th:only-of-type {\n",
       "        vertical-align: middle;\n",
       "    }\n",
       "\n",
       "    .dataframe tbody tr th {\n",
       "        vertical-align: top;\n",
       "    }\n",
       "\n",
       "    .dataframe thead th {\n",
       "        text-align: right;\n",
       "    }\n",
       "</style>\n",
       "<table border=\"1\" class=\"dataframe\">\n",
       "  <thead>\n",
       "    <tr style=\"text-align: right;\">\n",
       "      <th></th>\n",
       "      <th>review no</th>\n",
       "      <th>reviews</th>\n",
       "      <th>hotels</th>\n",
       "      <th>phrases_nva</th>\n",
       "      <th>phrases_an</th>\n",
       "    </tr>\n",
       "  </thead>\n",
       "  <tbody>\n",
       "    <tr>\n",
       "      <th>1884</th>\n",
       "      <td>201</td>\n",
       "      <td>The gravy was thick made by tomato a , cashew ...</td>\n",
       "      <td>Shalimar</td>\n",
       "      <td>[gravy was thick]</td>\n",
       "      <td>0</td>\n",
       "    </tr>\n",
       "    <tr>\n",
       "      <th>1888</th>\n",
       "      <td>201</td>\n",
       "      <td>This naan was something else , It was round an...</td>\n",
       "      <td>Shalimar</td>\n",
       "      <td>[naan was something]</td>\n",
       "      <td>0</td>\n",
       "    </tr>\n",
       "    <tr>\n",
       "      <th>1891</th>\n",
       "      <td>201</td>\n",
       "      <td>The presentation was really good and paneer wa...</td>\n",
       "      <td>Shalimar</td>\n",
       "      <td>[paneer was soft]</td>\n",
       "      <td>0</td>\n",
       "    </tr>\n",
       "    <tr>\n",
       "      <th>1892</th>\n",
       "      <td>201</td>\n",
       "      <td>, Chilly masala was delicious . ENDPAD</td>\n",
       "      <td>Shalimar</td>\n",
       "      <td>[Chilly masala was delicious]</td>\n",
       "      <td>0</td>\n",
       "    </tr>\n",
       "    <tr>\n",
       "      <th>1897</th>\n",
       "      <td>202</td>\n",
       "      <td>Ordered my all time favourite Mutton Biryani ,...</td>\n",
       "      <td>Shalimar</td>\n",
       "      <td>0</td>\n",
       "      <td>[favourite Mutton Biryani]</td>\n",
       "    </tr>\n",
       "    <tr>\n",
       "      <th>1904</th>\n",
       "      <td>204</td>\n",
       "      <td>This place serves the best Paratha in SOBO and...</td>\n",
       "      <td>Shalimar</td>\n",
       "      <td>0</td>\n",
       "      <td>[best Paratha]</td>\n",
       "    </tr>\n",
       "    <tr>\n",
       "      <th>1912</th>\n",
       "      <td>205</td>\n",
       "      <td>Shalimar restaurant in Mumbai 's Bhendi bazaar...</td>\n",
       "      <td>Shalimar</td>\n",
       "      <td>0</td>\n",
       "      <td>[decades old food]</td>\n",
       "    </tr>\n",
       "    <tr>\n",
       "      <th>1915</th>\n",
       "      <td>205</td>\n",
       "      <td>On 6th July I was in the area and just checked...</td>\n",
       "      <td>Shalimar</td>\n",
       "      <td>0</td>\n",
       "      <td>[quick lunch]</td>\n",
       "    </tr>\n",
       "    <tr>\n",
       "      <th>1916</th>\n",
       "      <td>205</td>\n",
       "      <td>The service was good as usual staff was helpfu...</td>\n",
       "      <td>Shalimar</td>\n",
       "      <td>[food was excellent]</td>\n",
       "      <td>0</td>\n",
       "    </tr>\n",
       "    <tr>\n",
       "      <th>1918</th>\n",
       "      <td>205</td>\n",
       "      <td>Seekh kabab is its signature item , kadai impr...</td>\n",
       "      <td>Shalimar</td>\n",
       "      <td>[dal gosht was ok]</td>\n",
       "      <td>0</td>\n",
       "    </tr>\n",
       "    <tr>\n",
       "      <th>1924</th>\n",
       "      <td>207</td>\n",
       "      <td>Great food .</td>\n",
       "      <td>Shalimar</td>\n",
       "      <td>0</td>\n",
       "      <td>[Great food]</td>\n",
       "    </tr>\n",
       "    <tr>\n",
       "      <th>1936</th>\n",
       "      <td>208</td>\n",
       "      <td>All juices were sour and totally left a bad taste</td>\n",
       "      <td>Shalimar</td>\n",
       "      <td>[juices were sour]</td>\n",
       "      <td>0</td>\n",
       "    </tr>\n",
       "    <tr>\n",
       "      <th>1979</th>\n",
       "      <td>211</td>\n",
       "      <td>Kebabs are awesome and do n't forget to tried ...</td>\n",
       "      <td>Shalimar</td>\n",
       "      <td>[Kebabs are awesome]</td>\n",
       "      <td>[signature dish]</td>\n",
       "    </tr>\n",
       "    <tr>\n",
       "      <th>1983</th>\n",
       "      <td>212</td>\n",
       "      <td>Its a good hotel in mumbai for fast food , bir...</td>\n",
       "      <td>Shalimar</td>\n",
       "      <td>[food are special.food]</td>\n",
       "      <td>[fast food]</td>\n",
       "    </tr>\n",
       "    <tr>\n",
       "      <th>1987</th>\n",
       "      <td>214</td>\n",
       "      <td>Excellent food and good service .</td>\n",
       "      <td>Shalimar</td>\n",
       "      <td>0</td>\n",
       "      <td>[Excellent food]</td>\n",
       "    </tr>\n",
       "    <tr>\n",
       "      <th>2004</th>\n",
       "      <td>218</td>\n",
       "      <td>We had ordered the one of the most appealing a...</td>\n",
       "      <td>Shalimar</td>\n",
       "      <td>0</td>\n",
       "      <td>[famous pizza]</td>\n",
       "    </tr>\n",
       "    <tr>\n",
       "      <th>2008</th>\n",
       "      <td>218</td>\n",
       "      <td>The chicken was soft and was marinated perfect...</td>\n",
       "      <td>Shalimar</td>\n",
       "      <td>[chicken was soft]</td>\n",
       "      <td>0</td>\n",
       "    </tr>\n",
       "    <tr>\n",
       "      <th>2013</th>\n",
       "      <td>218</td>\n",
       "      <td>The next dish we ordered was veg mayo roll whi...</td>\n",
       "      <td>Shalimar</td>\n",
       "      <td>0</td>\n",
       "      <td>[next dish]</td>\n",
       "    </tr>\n",
       "    <tr>\n",
       "      <th>2019</th>\n",
       "      <td>219</td>\n",
       "      <td>The Indian Mughlai non veg food is so deliciou...</td>\n",
       "      <td>Shalimar</td>\n",
       "      <td>0</td>\n",
       "      <td>[Indian Mughlai non veg food]</td>\n",
       "    </tr>\n",
       "    <tr>\n",
       "      <th>2033</th>\n",
       "      <td>221</td>\n",
       "      <td>Awesome Falooda , it 's unique combination of ...</td>\n",
       "      <td>Shalimar</td>\n",
       "      <td>0</td>\n",
       "      <td>[unique combination]</td>\n",
       "    </tr>\n",
       "    <tr>\n",
       "      <th>2034</th>\n",
       "      <td>222</td>\n",
       "      <td>You need to be very patient if you want to tas...</td>\n",
       "      <td>Shalimar</td>\n",
       "      <td>0</td>\n",
       "      <td>[good food]</td>\n",
       "    </tr>\n",
       "    <tr>\n",
       "      <th>2036</th>\n",
       "      <td>222</td>\n",
       "      <td>Amazing coordination , great service , great s...</td>\n",
       "      <td>Shalimar</td>\n",
       "      <td>0</td>\n",
       "      <td>[amazingly good food]</td>\n",
       "    </tr>\n",
       "    <tr>\n",
       "      <th>2040</th>\n",
       "      <td>222</td>\n",
       "      <td>Super cheap , super peppery , super spicy , su...</td>\n",
       "      <td>Shalimar</td>\n",
       "      <td>0</td>\n",
       "      <td>[super peppery]</td>\n",
       "    </tr>\n",
       "    <tr>\n",
       "      <th>2042</th>\n",
       "      <td>223</td>\n",
       "      <td>Last night we celebrated Eid with family@ Dast...</td>\n",
       "      <td>Shalimar</td>\n",
       "      <td>0</td>\n",
       "      <td>[delicious firni]</td>\n",
       "    </tr>\n",
       "    <tr>\n",
       "      <th>2060</th>\n",
       "      <td>228</td>\n",
       "      <td>It is very nice and tasty food ENDPAD for me i...</td>\n",
       "      <td>Shalimar</td>\n",
       "      <td>0</td>\n",
       "      <td>[tasty food]</td>\n",
       "    </tr>\n",
       "    <tr>\n",
       "      <th>2078</th>\n",
       "      <td>232</td>\n",
       "      <td>Lucknowi chicken was good but not much special .</td>\n",
       "      <td>Shalimar</td>\n",
       "      <td>[Lucknowi chicken was good]</td>\n",
       "      <td>0</td>\n",
       "    </tr>\n",
       "    <tr>\n",
       "      <th>2085</th>\n",
       "      <td>233</td>\n",
       "      <td>And moreover the food was excellent . ENDPAD</td>\n",
       "      <td>Shalimar</td>\n",
       "      <td>[food was excellent]</td>\n",
       "      <td>0</td>\n",
       "    </tr>\n",
       "    <tr>\n",
       "      <th>2089</th>\n",
       "      <td>233</td>\n",
       "      <td>Tikka maslaa was spicy but manchurian was medi...</td>\n",
       "      <td>Shalimar</td>\n",
       "      <td>[manchurian was medium spicy]</td>\n",
       "      <td>0</td>\n",
       "    </tr>\n",
       "    <tr>\n",
       "      <th>2090</th>\n",
       "      <td>233</td>\n",
       "      <td>Chicken was tender .</td>\n",
       "      <td>Shalimar</td>\n",
       "      <td>[Chicken was tender]</td>\n",
       "      <td>0</td>\n",
       "    </tr>\n",
       "    <tr>\n",
       "      <th>2091</th>\n",
       "      <td>233</td>\n",
       "      <td>Naan were soft and served hot . ENDPAD</td>\n",
       "      <td>Shalimar</td>\n",
       "      <td>[Naan were soft]</td>\n",
       "      <td>0</td>\n",
       "    </tr>\n",
       "    <tr>\n",
       "      <th>...</th>\n",
       "      <td>...</td>\n",
       "      <td>...</td>\n",
       "      <td>...</td>\n",
       "      <td>...</td>\n",
       "      <td>...</td>\n",
       "    </tr>\n",
       "    <tr>\n",
       "      <th>2304</th>\n",
       "      <td>264</td>\n",
       "      <td>All the above preparation of chicken dish was ...</td>\n",
       "      <td>Shalimar</td>\n",
       "      <td>[chicken dish was perfect ..]</td>\n",
       "      <td>0</td>\n",
       "    </tr>\n",
       "    <tr>\n",
       "      <th>2306</th>\n",
       "      <td>264</td>\n",
       "      <td>Rated with 4 only because the Shalimar Special...</td>\n",
       "      <td>Shalimar</td>\n",
       "      <td>[Shalimar Special Falooda was way]</td>\n",
       "      <td>0</td>\n",
       "    </tr>\n",
       "    <tr>\n",
       "      <th>2308</th>\n",
       "      <td>265</td>\n",
       "      <td>they really have good food to offer .</td>\n",
       "      <td>Shalimar</td>\n",
       "      <td>0</td>\n",
       "      <td>[good food]</td>\n",
       "    </tr>\n",
       "    <tr>\n",
       "      <th>2312</th>\n",
       "      <td>265</td>\n",
       "      <td>, waldrof salad a worth try.also falooda , sha...</td>\n",
       "      <td>Shalimar</td>\n",
       "      <td>[shawarma are good]</td>\n",
       "      <td>0</td>\n",
       "    </tr>\n",
       "    <tr>\n",
       "      <th>2314</th>\n",
       "      <td>266</td>\n",
       "      <td>I never had such an amazing north Indian food !</td>\n",
       "      <td>Shalimar</td>\n",
       "      <td>0</td>\n",
       "      <td>[Indian food]</td>\n",
       "    </tr>\n",
       "    <tr>\n",
       "      <th>2325</th>\n",
       "      <td>268</td>\n",
       "      <td>Good prompt service , well looked after , food...</td>\n",
       "      <td>Shalimar</td>\n",
       "      <td>[food was very nice]</td>\n",
       "      <td>0</td>\n",
       "    </tr>\n",
       "    <tr>\n",
       "      <th>2338</th>\n",
       "      <td>271</td>\n",
       "      <td>- My visit to Mumbai could never be complete w...</td>\n",
       "      <td>Shalimar</td>\n",
       "      <td>0</td>\n",
       "      <td>[addictive Shalimar Falooda]</td>\n",
       "    </tr>\n",
       "    <tr>\n",
       "      <th>2352</th>\n",
       "      <td>273</td>\n",
       "      <td>the food and service is good but some items ar...</td>\n",
       "      <td>Shalimar</td>\n",
       "      <td>0</td>\n",
       "      <td>[specific food]</td>\n",
       "    </tr>\n",
       "    <tr>\n",
       "      <th>2358</th>\n",
       "      <td>275</td>\n",
       "      <td>Both things along with butter naan was just su...</td>\n",
       "      <td>Shalimar</td>\n",
       "      <td>[butter naan was just superb]</td>\n",
       "      <td>0</td>\n",
       "    </tr>\n",
       "    <tr>\n",
       "      <th>2364</th>\n",
       "      <td>276</td>\n",
       "      <td>This old and famous LATE NIGHT restaurant is p...</td>\n",
       "      <td>Shalimar</td>\n",
       "      <td>0</td>\n",
       "      <td>[flavorful spices]</td>\n",
       "    </tr>\n",
       "    <tr>\n",
       "      <th>2374</th>\n",
       "      <td>279</td>\n",
       "      <td>Its an old and famous mughlai restaurant in bh...</td>\n",
       "      <td>Shalimar</td>\n",
       "      <td>0</td>\n",
       "      <td>[famous mughlai]</td>\n",
       "    </tr>\n",
       "    <tr>\n",
       "      <th>2375</th>\n",
       "      <td>279</td>\n",
       "      <td>Do visit their fast food corner and try pizzas .</td>\n",
       "      <td>Shalimar</td>\n",
       "      <td>0</td>\n",
       "      <td>[fast food]</td>\n",
       "    </tr>\n",
       "    <tr>\n",
       "      <th>2377</th>\n",
       "      <td>280</td>\n",
       "      <td>well the dishes to try out are mut korma , do ...</td>\n",
       "      <td>Shalimar</td>\n",
       "      <td>0</td>\n",
       "      <td>[mut korma]</td>\n",
       "    </tr>\n",
       "    <tr>\n",
       "      <th>2381</th>\n",
       "      <td>281</td>\n",
       "      <td>The place being popular is crowded during peak...</td>\n",
       "      <td>Shalimar</td>\n",
       "      <td>0</td>\n",
       "      <td>[peak lunch]</td>\n",
       "    </tr>\n",
       "    <tr>\n",
       "      <th>2388</th>\n",
       "      <td>282</td>\n",
       "      <td>Kebabs are good and tried nalli nirhari which ...</td>\n",
       "      <td>Shalimar</td>\n",
       "      <td>[Kebabs are good]</td>\n",
       "      <td>[signature dish]</td>\n",
       "    </tr>\n",
       "    <tr>\n",
       "      <th>2389</th>\n",
       "      <td>282</td>\n",
       "      <td>Seekh kebab was just okay and do n't try the m...</td>\n",
       "      <td>Shalimar</td>\n",
       "      <td>[Seekh kebab was just okay]</td>\n",
       "      <td>0</td>\n",
       "    </tr>\n",
       "    <tr>\n",
       "      <th>2404</th>\n",
       "      <td>285</td>\n",
       "      <td>I made it twice to this place and enjoyed the ...</td>\n",
       "      <td>Shalimar</td>\n",
       "      <td>0</td>\n",
       "      <td>[different meals]</td>\n",
       "    </tr>\n",
       "    <tr>\n",
       "      <th>2408</th>\n",
       "      <td>286</td>\n",
       "      <td>From the fast food counter to the restaurant ,...</td>\n",
       "      <td>Shalimar</td>\n",
       "      <td>0</td>\n",
       "      <td>[fast food]</td>\n",
       "    </tr>\n",
       "    <tr>\n",
       "      <th>2421</th>\n",
       "      <td>288</td>\n",
       "      <td>good food tasty food should try pahadi kabab ..</td>\n",
       "      <td>Shalimar</td>\n",
       "      <td>0</td>\n",
       "      <td>[good food]</td>\n",
       "    </tr>\n",
       "    <tr>\n",
       "      <th>2438</th>\n",
       "      <td>293</td>\n",
       "      <td>If your travelling on fridays you can enjoy Mu...</td>\n",
       "      <td>Shalimar</td>\n",
       "      <td>0</td>\n",
       "      <td>[authentic Hyderabadi dish]</td>\n",
       "    </tr>\n",
       "    <tr>\n",
       "      <th>2439</th>\n",
       "      <td>294</td>\n",
       "      <td>This was the first I visited this restaurant w...</td>\n",
       "      <td>Shalimar</td>\n",
       "      <td>0</td>\n",
       "      <td>[short stay]</td>\n",
       "    </tr>\n",
       "    <tr>\n",
       "      <th>2445</th>\n",
       "      <td>294</td>\n",
       "      <td>Main course specially mutton dish ( full leg )...</td>\n",
       "      <td>Shalimar</td>\n",
       "      <td>0</td>\n",
       "      <td>[full leg]</td>\n",
       "    </tr>\n",
       "    <tr>\n",
       "      <th>2446</th>\n",
       "      <td>294</td>\n",
       "      <td>Shrimp gravy was spicy &amp; not the mark .</td>\n",
       "      <td>Shalimar</td>\n",
       "      <td>[Shrimp gravy was spicy]</td>\n",
       "      <td>0</td>\n",
       "    </tr>\n",
       "    <tr>\n",
       "      <th>2447</th>\n",
       "      <td>294</td>\n",
       "      <td>Mutton biryani was also good</td>\n",
       "      <td>Shalimar</td>\n",
       "      <td>[Mutton biryani was also good]</td>\n",
       "      <td>0</td>\n",
       "    </tr>\n",
       "    <tr>\n",
       "      <th>2456</th>\n",
       "      <td>295</td>\n",
       "      <td>But the dish was an absolute delight and perha...</td>\n",
       "      <td>Shalimar</td>\n",
       "      <td>0</td>\n",
       "      <td>[absolute delight, softest mutton]</td>\n",
       "    </tr>\n",
       "    <tr>\n",
       "      <th>2499</th>\n",
       "      <td>299</td>\n",
       "      <td>Soft meat pieces but overall nothing beyond av...</td>\n",
       "      <td>Shalimar</td>\n",
       "      <td>0</td>\n",
       "      <td>[Soft meat]</td>\n",
       "    </tr>\n",
       "    <tr>\n",
       "      <th>2505</th>\n",
       "      <td>299</td>\n",
       "      <td>well seasoned , some nice meat pieces but grea...</td>\n",
       "      <td>Shalimar</td>\n",
       "      <td>0</td>\n",
       "      <td>[nice meat, caramelized onions]</td>\n",
       "    </tr>\n",
       "    <tr>\n",
       "      <th>2507</th>\n",
       "      <td>299</td>\n",
       "      <td>Chicken Tandoori : soft meat , beautifully mar...</td>\n",
       "      <td>Shalimar</td>\n",
       "      <td>0</td>\n",
       "      <td>[soft meat]</td>\n",
       "    </tr>\n",
       "    <tr>\n",
       "      <th>2509</th>\n",
       "      <td>299</td>\n",
       "      <td>Sholay kebab : nicely presented , some pieces ...</td>\n",
       "      <td>Shalimar</td>\n",
       "      <td>0</td>\n",
       "      <td>[tasty Punjabi spices]</td>\n",
       "    </tr>\n",
       "    <tr>\n",
       "      <th>2516</th>\n",
       "      <td>299</td>\n",
       "      <td>Salted lassi : thin , watery and not enough sa...</td>\n",
       "      <td>Shalimar</td>\n",
       "      <td>0</td>\n",
       "      <td>[not enough salt]</td>\n",
       "    </tr>\n",
       "  </tbody>\n",
       "</table>\n",
       "<p>98 rows × 5 columns</p>\n",
       "</div>"
      ],
      "text/plain": [
       "     review no                                            reviews    hotels  \\\n",
       "1884       201  The gravy was thick made by tomato a , cashew ...  Shalimar   \n",
       "1888       201  This naan was something else , It was round an...  Shalimar   \n",
       "1891       201  The presentation was really good and paneer wa...  Shalimar   \n",
       "1892       201             , Chilly masala was delicious . ENDPAD  Shalimar   \n",
       "1897       202  Ordered my all time favourite Mutton Biryani ,...  Shalimar   \n",
       "1904       204  This place serves the best Paratha in SOBO and...  Shalimar   \n",
       "1912       205  Shalimar restaurant in Mumbai 's Bhendi bazaar...  Shalimar   \n",
       "1915       205  On 6th July I was in the area and just checked...  Shalimar   \n",
       "1916       205  The service was good as usual staff was helpfu...  Shalimar   \n",
       "1918       205  Seekh kabab is its signature item , kadai impr...  Shalimar   \n",
       "1924       207                                       Great food .  Shalimar   \n",
       "1936       208  All juices were sour and totally left a bad taste  Shalimar   \n",
       "1979       211  Kebabs are awesome and do n't forget to tried ...  Shalimar   \n",
       "1983       212  Its a good hotel in mumbai for fast food , bir...  Shalimar   \n",
       "1987       214                  Excellent food and good service .  Shalimar   \n",
       "2004       218  We had ordered the one of the most appealing a...  Shalimar   \n",
       "2008       218  The chicken was soft and was marinated perfect...  Shalimar   \n",
       "2013       218  The next dish we ordered was veg mayo roll whi...  Shalimar   \n",
       "2019       219  The Indian Mughlai non veg food is so deliciou...  Shalimar   \n",
       "2033       221  Awesome Falooda , it 's unique combination of ...  Shalimar   \n",
       "2034       222  You need to be very patient if you want to tas...  Shalimar   \n",
       "2036       222  Amazing coordination , great service , great s...  Shalimar   \n",
       "2040       222  Super cheap , super peppery , super spicy , su...  Shalimar   \n",
       "2042       223  Last night we celebrated Eid with family@ Dast...  Shalimar   \n",
       "2060       228  It is very nice and tasty food ENDPAD for me i...  Shalimar   \n",
       "2078       232   Lucknowi chicken was good but not much special .  Shalimar   \n",
       "2085       233       And moreover the food was excellent . ENDPAD  Shalimar   \n",
       "2089       233  Tikka maslaa was spicy but manchurian was medi...  Shalimar   \n",
       "2090       233                               Chicken was tender .  Shalimar   \n",
       "2091       233             Naan were soft and served hot . ENDPAD  Shalimar   \n",
       "...        ...                                                ...       ...   \n",
       "2304       264  All the above preparation of chicken dish was ...  Shalimar   \n",
       "2306       264  Rated with 4 only because the Shalimar Special...  Shalimar   \n",
       "2308       265              they really have good food to offer .  Shalimar   \n",
       "2312       265  , waldrof salad a worth try.also falooda , sha...  Shalimar   \n",
       "2314       266    I never had such an amazing north Indian food !  Shalimar   \n",
       "2325       268  Good prompt service , well looked after , food...  Shalimar   \n",
       "2338       271  - My visit to Mumbai could never be complete w...  Shalimar   \n",
       "2352       273  the food and service is good but some items ar...  Shalimar   \n",
       "2358       275  Both things along with butter naan was just su...  Shalimar   \n",
       "2364       276  This old and famous LATE NIGHT restaurant is p...  Shalimar   \n",
       "2374       279  Its an old and famous mughlai restaurant in bh...  Shalimar   \n",
       "2375       279   Do visit their fast food corner and try pizzas .  Shalimar   \n",
       "2377       280  well the dishes to try out are mut korma , do ...  Shalimar   \n",
       "2381       281  The place being popular is crowded during peak...  Shalimar   \n",
       "2388       282  Kebabs are good and tried nalli nirhari which ...  Shalimar   \n",
       "2389       282  Seekh kebab was just okay and do n't try the m...  Shalimar   \n",
       "2404       285  I made it twice to this place and enjoyed the ...  Shalimar   \n",
       "2408       286  From the fast food counter to the restaurant ,...  Shalimar   \n",
       "2421       288    good food tasty food should try pahadi kabab ..  Shalimar   \n",
       "2438       293  If your travelling on fridays you can enjoy Mu...  Shalimar   \n",
       "2439       294  This was the first I visited this restaurant w...  Shalimar   \n",
       "2445       294  Main course specially mutton dish ( full leg )...  Shalimar   \n",
       "2446       294            Shrimp gravy was spicy & not the mark .  Shalimar   \n",
       "2447       294                       Mutton biryani was also good  Shalimar   \n",
       "2456       295  But the dish was an absolute delight and perha...  Shalimar   \n",
       "2499       299  Soft meat pieces but overall nothing beyond av...  Shalimar   \n",
       "2505       299  well seasoned , some nice meat pieces but grea...  Shalimar   \n",
       "2507       299  Chicken Tandoori : soft meat , beautifully mar...  Shalimar   \n",
       "2509       299  Sholay kebab : nicely presented , some pieces ...  Shalimar   \n",
       "2516       299  Salted lassi : thin , watery and not enough sa...  Shalimar   \n",
       "\n",
       "                             phrases_nva                          phrases_an  \n",
       "1884                   [gravy was thick]                                   0  \n",
       "1888                [naan was something]                                   0  \n",
       "1891                   [paneer was soft]                                   0  \n",
       "1892       [Chilly masala was delicious]                                   0  \n",
       "1897                                   0          [favourite Mutton Biryani]  \n",
       "1904                                   0                      [best Paratha]  \n",
       "1912                                   0                  [decades old food]  \n",
       "1915                                   0                       [quick lunch]  \n",
       "1916                [food was excellent]                                   0  \n",
       "1918                  [dal gosht was ok]                                   0  \n",
       "1924                                   0                        [Great food]  \n",
       "1936                  [juices were sour]                                   0  \n",
       "1979                [Kebabs are awesome]                    [signature dish]  \n",
       "1983             [food are special.food]                         [fast food]  \n",
       "1987                                   0                    [Excellent food]  \n",
       "2004                                   0                      [famous pizza]  \n",
       "2008                  [chicken was soft]                                   0  \n",
       "2013                                   0                         [next dish]  \n",
       "2019                                   0       [Indian Mughlai non veg food]  \n",
       "2033                                   0                [unique combination]  \n",
       "2034                                   0                         [good food]  \n",
       "2036                                   0               [amazingly good food]  \n",
       "2040                                   0                     [super peppery]  \n",
       "2042                                   0                   [delicious firni]  \n",
       "2060                                   0                        [tasty food]  \n",
       "2078         [Lucknowi chicken was good]                                   0  \n",
       "2085                [food was excellent]                                   0  \n",
       "2089       [manchurian was medium spicy]                                   0  \n",
       "2090                [Chicken was tender]                                   0  \n",
       "2091                    [Naan were soft]                                   0  \n",
       "...                                  ...                                 ...  \n",
       "2304       [chicken dish was perfect ..]                                   0  \n",
       "2306  [Shalimar Special Falooda was way]                                   0  \n",
       "2308                                   0                         [good food]  \n",
       "2312                 [shawarma are good]                                   0  \n",
       "2314                                   0                       [Indian food]  \n",
       "2325                [food was very nice]                                   0  \n",
       "2338                                   0        [addictive Shalimar Falooda]  \n",
       "2352                                   0                     [specific food]  \n",
       "2358       [butter naan was just superb]                                   0  \n",
       "2364                                   0                  [flavorful spices]  \n",
       "2374                                   0                    [famous mughlai]  \n",
       "2375                                   0                         [fast food]  \n",
       "2377                                   0                         [mut korma]  \n",
       "2381                                   0                        [peak lunch]  \n",
       "2388                   [Kebabs are good]                    [signature dish]  \n",
       "2389         [Seekh kebab was just okay]                                   0  \n",
       "2404                                   0                   [different meals]  \n",
       "2408                                   0                         [fast food]  \n",
       "2421                                   0                         [good food]  \n",
       "2438                                   0         [authentic Hyderabadi dish]  \n",
       "2439                                   0                        [short stay]  \n",
       "2445                                   0                          [full leg]  \n",
       "2446            [Shrimp gravy was spicy]                                   0  \n",
       "2447      [Mutton biryani was also good]                                   0  \n",
       "2456                                   0  [absolute delight, softest mutton]  \n",
       "2499                                   0                         [Soft meat]  \n",
       "2505                                   0     [nice meat, caramelized onions]  \n",
       "2507                                   0                         [soft meat]  \n",
       "2509                                   0              [tasty Punjabi spices]  \n",
       "2516                                   0                   [not enough salt]  \n",
       "\n",
       "[98 rows x 5 columns]"
      ]
     },
     "execution_count": 441,
     "metadata": {},
     "output_type": "execute_result"
    }
   ],
   "source": [
    "final[((final.phrases_nva!=0) | (final.phrases_an!=0)) & (final.hotels=='Shalimar')]"
   ]
  },
  {
   "cell_type": "code",
   "execution_count": null,
   "metadata": {},
   "outputs": [],
   "source": []
  }
 ],
 "metadata": {
  "colab": {
   "name": "foodie.ipynb",
   "provenance": []
  },
  "kernelspec": {
   "display_name": "Python 3",
   "language": "python",
   "name": "python3"
  },
  "language_info": {
   "codemirror_mode": {
    "name": "ipython",
    "version": 3
   },
   "file_extension": ".py",
   "mimetype": "text/x-python",
   "name": "python",
   "nbconvert_exporter": "python",
   "pygments_lexer": "ipython3",
   "version": "3.7.3"
  }
 },
 "nbformat": 4,
 "nbformat_minor": 1
}
