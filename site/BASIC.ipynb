{
 "cells": [
  {
   "cell_type": "code",
   "execution_count": 1,
   "metadata": {},
   "outputs": [],
   "source": [
    "from flask import Flask,request,render_template\n",
    "import pandas as pd\n",
    "#### PREDICTION PAGE CODE #####\n",
    "import pickle\n",
    "import numpy as np\n",
    "import tensorflow as tf\n",
    "from tensorflow.keras.preprocessing.sequence import pad_sequences\n",
    "from tensorflow.keras.preprocessing.text import Tokenizer"
   ]
  },
  {
   "cell_type": "code",
   "execution_count": 2,
   "metadata": {},
   "outputs": [],
   "source": [
    "tag2idx,idx2tag = pickle.load(open('mlfiles/tag2idx_idx2tag_w2v_final2','rb'))\n",
    "tokenizer = pickle.load(open('mlfiles/tokenizer_w2v_final2','rb'))\n",
    "model = tf.keras.models.load_model('mlfiles/BILSTM_model_final2.h5')\n",
    "\n",
    "num_words = len(tokenizer.word_index)\n",
    "max_len =30\n",
    "sents = []\n",
    "tagseq =[]"
   ]
  },
  {
   "cell_type": "code",
   "execution_count": 3,
   "metadata": {},
   "outputs": [],
   "source": [
    "def give_prediction(text):\n",
    "    max_len =30\n",
    "    sents = []\n",
    "    tagseq =[]\n",
    "    text = text.lower()\n",
    "    sentence_ids = tokenizer.texts_to_sequences([text])\n",
    "    padded_ids = pad_sequences(maxlen=max_len, sequences=sentence_ids, padding=\"post\", value=num_words)\n",
    "    pred = model.predict(padded_ids)\n",
    "    pred = np.argmax(pred,axis=-1)\n",
    "    review_words = text.split()\n",
    "      # text_padded = tokenizer.sequences_to_texts(sentence_ids)\n",
    "    c=0\n",
    "    for i,y in enumerate(pred[0,:]):\n",
    "    #print(review_words[i],idx2tag[y])\n",
    "        c+=1\n",
    "        if c == len(review_words):\n",
    "            break\n",
    "        sents.append(review_words[i])\n",
    "        tagseq.append(idx2tag[y])\n",
    "        #print(f'{idx2word[x] : {15}} {idx2tag[y] :{15}}')\n",
    "        #print(\"{:15}{}\\t{}\".format(x,y))\n",
    "    foods=[] #contains individual E\n",
    "    for i,word in enumerate(zip(sents,tagseq)):\n",
    "        # print(word)\n",
    "        #print(word)\n",
    "        if word[1] == 'E':\n",
    "            foods.append(word[0])\n",
    "    dishes= [] # combines bigram E as well\n",
    "    for i,(word,tag) in enumerate(zip(sents,tagseq)) :\n",
    "        if i == 0: #first word case only\n",
    "            if tag == 'E':\n",
    "                dishes.append(word)\n",
    "                continue\n",
    "        if tag=='E':\n",
    "            dishes.append(word)\n",
    "            if tagseq[i-1]=='E': #check if previous word is also E\n",
    "                first = dishes.pop(-2) #remove previous E\n",
    "                dishes[-1]=first+' '+word # combine both E\n",
    "    \n",
    "    return dishes"
   ]
  },
  {
   "cell_type": "code",
   "execution_count": 4,
   "metadata": {},
   "outputs": [
    {
     "data": {
      "text/plain": [
       "['pani puri']"
      ]
     },
     "execution_count": 4,
     "metadata": {},
     "output_type": "execute_result"
    }
   ],
   "source": [
    "give_prediction('the pani puri was good')"
   ]
  },
  {
   "cell_type": "code",
   "execution_count": null,
   "metadata": {},
   "outputs": [
    {
     "name": "stdout",
     "output_type": "stream",
     "text": [
      " * Serving Flask app \"__main__\" (lazy loading)\n",
      " * Environment: production\n",
      "   WARNING: This is a development server. Do not use it in a production deployment.\n",
      "   Use a production WSGI server instead.\n",
      " * Debug mode: on\n"
     ]
    },
    {
     "name": "stderr",
     "output_type": "stream",
     "text": [
      " * Running on http://127.0.0.1:5000/ (Press CTRL+C to quit)\n",
      "127.0.0.1 - - [01/Dec/2020 15:20:38] \"\u001b[37mGET / HTTP/1.1\u001b[0m\" 200 -\n",
      "127.0.0.1 - - [01/Dec/2020 15:20:39] \"\u001b[33mGET /favicon.ico HTTP/1.1\u001b[0m\" 404 -\n",
      "127.0.0.1 - - [01/Dec/2020 15:20:44] \"\u001b[37mGET / HTTP/1.1\u001b[0m\" 200 -\n",
      "127.0.0.1 - - [01/Dec/2020 15:20:48] \"\u001b[37mGET /food HTTP/1.1\u001b[0m\" 200 -\n",
      "127.0.0.1 - - [01/Dec/2020 15:20:50] \"\u001b[37mGET / HTTP/1.1\u001b[0m\" 200 -\n",
      "127.0.0.1 - - [01/Dec/2020 15:20:50] \"\u001b[37mGET / HTTP/1.1\u001b[0m\" 200 -\n",
      "127.0.0.1 - - [01/Dec/2020 15:20:50] \"\u001b[37mGET / HTTP/1.1\u001b[0m\" 200 -\n",
      "127.0.0.1 - - [01/Dec/2020 15:20:51] \"\u001b[37mGET / HTTP/1.1\u001b[0m\" 200 -\n",
      "127.0.0.1 - - [01/Dec/2020 15:20:51] \"\u001b[37mGET / HTTP/1.1\u001b[0m\" 200 -\n",
      "127.0.0.1 - - [01/Dec/2020 15:21:10] \"\u001b[37mGET /predict HTTP/1.1\u001b[0m\" 200 -\n",
      "127.0.0.1 - - [01/Dec/2020 15:21:19] \"\u001b[37mPOST /predict HTTP/1.1\u001b[0m\" 200 -\n"
     ]
    },
    {
     "name": "stdout",
     "output_type": "stream",
     "text": [
      "chicken was good\n",
      "['chicken']\n"
     ]
    },
    {
     "name": "stderr",
     "output_type": "stream",
     "text": [
      "127.0.0.1 - - [01/Dec/2020 15:21:20] \"\u001b[37mGET / HTTP/1.1\u001b[0m\" 200 -\n",
      "127.0.0.1 - - [01/Dec/2020 15:21:37] \"\u001b[37mGET /food HTTP/1.1\u001b[0m\" 200 -\n",
      "127.0.0.1 - - [01/Dec/2020 15:22:00] \"\u001b[37mGET /food HTTP/1.1\u001b[0m\" 200 -\n",
      "127.0.0.1 - - [01/Dec/2020 15:22:37] \"\u001b[37mGET /predict HTTP/1.1\u001b[0m\" 200 -\n",
      "127.0.0.1 - - [01/Dec/2020 15:22:42] \"\u001b[37mGET / HTTP/1.1\u001b[0m\" 200 -\n",
      "127.0.0.1 - - [01/Dec/2020 15:23:05] \"\u001b[37mGET /predict HTTP/1.1\u001b[0m\" 200 -\n",
      "127.0.0.1 - - [01/Dec/2020 15:23:09] \"\u001b[37mPOST /predict HTTP/1.1\u001b[0m\" 200 -\n"
     ]
    },
    {
     "name": "stdout",
     "output_type": "stream",
     "text": [
      "chicken was good\n",
      "['chicken']\n"
     ]
    },
    {
     "name": "stderr",
     "output_type": "stream",
     "text": [
      "127.0.0.1 - - [01/Dec/2020 15:24:25] \"\u001b[37mGET / HTTP/1.1\u001b[0m\" 200 -\n",
      "127.0.0.1 - - [01/Dec/2020 15:25:27] \"\u001b[37mGET / HTTP/1.1\u001b[0m\" 200 -\n",
      "127.0.0.1 - - [01/Dec/2020 15:25:29] \"\u001b[37mGET / HTTP/1.1\u001b[0m\" 200 -\n",
      "127.0.0.1 - - [01/Dec/2020 15:25:37] \"\u001b[37mGET /food HTTP/1.1\u001b[0m\" 200 -\n",
      "127.0.0.1 - - [01/Dec/2020 15:25:40] \"\u001b[37mGET / HTTP/1.1\u001b[0m\" 200 -\n",
      "127.0.0.1 - - [01/Dec/2020 15:25:49] \"\u001b[37mGET /predict HTTP/1.1\u001b[0m\" 200 -\n",
      "127.0.0.1 - - [01/Dec/2020 15:25:52] \"\u001b[37mGET /signup HTTP/1.1\u001b[0m\" 200 -\n",
      "127.0.0.1 - - [01/Dec/2020 15:25:53] \"\u001b[37mGET /predict HTTP/1.1\u001b[0m\" 200 -\n",
      "127.0.0.1 - - [01/Dec/2020 15:25:57] \"\u001b[37mGET / HTTP/1.1\u001b[0m\" 200 -\n",
      "127.0.0.1 - - [01/Dec/2020 15:26:30] \"\u001b[37mGET / HTTP/1.1\u001b[0m\" 200 -\n",
      "127.0.0.1 - - [01/Dec/2020 15:26:35] \"\u001b[37mGET / HTTP/1.1\u001b[0m\" 200 -\n",
      "127.0.0.1 - - [01/Dec/2020 15:26:36] \"\u001b[37mGET /food HTTP/1.1\u001b[0m\" 200 -\n",
      "127.0.0.1 - - [01/Dec/2020 15:26:38] \"\u001b[37mGET / HTTP/1.1\u001b[0m\" 200 -\n",
      "127.0.0.1 - - [01/Dec/2020 15:26:57] \"\u001b[37mGET / HTTP/1.1\u001b[0m\" 200 -\n",
      "127.0.0.1 - - [01/Dec/2020 15:28:24] \"\u001b[37mGET / HTTP/1.1\u001b[0m\" 200 -\n",
      "127.0.0.1 - - [01/Dec/2020 15:28:31] \"\u001b[37mGET / HTTP/1.1\u001b[0m\" 200 -\n",
      "127.0.0.1 - - [01/Dec/2020 15:28:34] \"\u001b[37mGET /predict HTTP/1.1\u001b[0m\" 200 -\n",
      "127.0.0.1 - - [01/Dec/2020 15:28:36] \"\u001b[37mGET /food HTTP/1.1\u001b[0m\" 200 -\n",
      "127.0.0.1 - - [01/Dec/2020 15:28:48] \"\u001b[37mGET /food HTTP/1.1\u001b[0m\" 200 -\n",
      "127.0.0.1 - - [01/Dec/2020 15:28:50] \"\u001b[37mGET /food HTTP/1.1\u001b[0m\" 200 -\n",
      "127.0.0.1 - - [01/Dec/2020 15:29:01] \"\u001b[37mGET /predict HTTP/1.1\u001b[0m\" 200 -\n"
     ]
    },
    {
     "name": "stdout",
     "output_type": "stream",
     "text": [
      "\n"
     ]
    },
    {
     "name": "stderr",
     "output_type": "stream",
     "text": [
      "127.0.0.1 - - [01/Dec/2020 15:29:03] \"\u001b[1m\u001b[35mPOST /predict HTTP/1.1\u001b[0m\" 500 -\n",
      "Traceback (most recent call last):\n",
      "  File \"D:\\Anaconda3\\envs\\tensorflow\\lib\\site-packages\\flask\\app.py\", line 2463, in __call__\n",
      "    return self.wsgi_app(environ, start_response)\n",
      "  File \"D:\\Anaconda3\\envs\\tensorflow\\lib\\site-packages\\flask\\app.py\", line 2449, in wsgi_app\n",
      "    response = self.handle_exception(e)\n",
      "  File \"D:\\Anaconda3\\envs\\tensorflow\\lib\\site-packages\\flask\\app.py\", line 1866, in handle_exception\n",
      "    reraise(exc_type, exc_value, tb)\n",
      "  File \"D:\\Anaconda3\\envs\\tensorflow\\lib\\site-packages\\flask\\_compat.py\", line 39, in reraise\n",
      "    raise value\n",
      "  File \"D:\\Anaconda3\\envs\\tensorflow\\lib\\site-packages\\flask\\app.py\", line 2446, in wsgi_app\n",
      "    response = self.full_dispatch_request()\n",
      "  File \"D:\\Anaconda3\\envs\\tensorflow\\lib\\site-packages\\flask\\app.py\", line 1951, in full_dispatch_request\n",
      "    rv = self.handle_user_exception(e)\n",
      "  File \"D:\\Anaconda3\\envs\\tensorflow\\lib\\site-packages\\flask\\app.py\", line 1820, in handle_user_exception\n",
      "    reraise(exc_type, exc_value, tb)\n",
      "  File \"D:\\Anaconda3\\envs\\tensorflow\\lib\\site-packages\\flask\\_compat.py\", line 39, in reraise\n",
      "    raise value\n",
      "  File \"D:\\Anaconda3\\envs\\tensorflow\\lib\\site-packages\\flask\\app.py\", line 1949, in full_dispatch_request\n",
      "    rv = self.dispatch_request()\n",
      "  File \"D:\\Anaconda3\\envs\\tensorflow\\lib\\site-packages\\flask\\app.py\", line 1935, in dispatch_request\n",
      "    return self.view_functions[rule.endpoint](**req.view_args)\n",
      "  File \"<ipython-input-5-7cdea6d243c0>\", line 67, in predict\n",
      "    \n",
      "  File \"<ipython-input-3-9828795baa13>\", line 18, in give_prediction\n",
      "    \n",
      "IndexError: list index out of range\n",
      "127.0.0.1 - - [01/Dec/2020 15:29:03] \"\u001b[37mGET /predict?__debugger__=yes&cmd=resource&f=style.css HTTP/1.1\u001b[0m\" 200 -\n",
      "127.0.0.1 - - [01/Dec/2020 15:29:03] \"\u001b[37mGET /predict?__debugger__=yes&cmd=resource&f=debugger.js HTTP/1.1\u001b[0m\" 200 -\n",
      "127.0.0.1 - - [01/Dec/2020 15:29:03] \"\u001b[37mGET /predict?__debugger__=yes&cmd=resource&f=jquery.js HTTP/1.1\u001b[0m\" 200 -\n",
      "127.0.0.1 - - [01/Dec/2020 15:29:03] \"\u001b[37mGET /predict?__debugger__=yes&cmd=resource&f=console.png HTTP/1.1\u001b[0m\" 200 -\n",
      "127.0.0.1 - - [01/Dec/2020 15:29:03] \"\u001b[37mGET /predict?__debugger__=yes&cmd=resource&f=ubuntu.ttf HTTP/1.1\u001b[0m\" 200 -\n",
      "127.0.0.1 - - [01/Dec/2020 15:29:03] \"\u001b[37mGET /predict?__debugger__=yes&cmd=resource&f=console.png HTTP/1.1\u001b[0m\" 200 -\n",
      "127.0.0.1 - - [01/Dec/2020 15:29:06] \"\u001b[37mGET /predict HTTP/1.1\u001b[0m\" 200 -\n",
      "127.0.0.1 - - [01/Dec/2020 15:29:07] \"\u001b[37mGET /predict HTTP/1.1\u001b[0m\" 200 -\n",
      "127.0.0.1 - - [01/Dec/2020 15:29:07] \"\u001b[37mGET /predict HTTP/1.1\u001b[0m\" 200 -\n",
      "127.0.0.1 - - [01/Dec/2020 15:29:11] \"\u001b[1m\u001b[35mPOST /predict HTTP/1.1\u001b[0m\" 500 -\n",
      "Traceback (most recent call last):\n",
      "  File \"D:\\Anaconda3\\envs\\tensorflow\\lib\\site-packages\\flask\\app.py\", line 2463, in __call__\n",
      "    return self.wsgi_app(environ, start_response)\n",
      "  File \"D:\\Anaconda3\\envs\\tensorflow\\lib\\site-packages\\flask\\app.py\", line 2449, in wsgi_app\n",
      "    response = self.handle_exception(e)\n",
      "  File \"D:\\Anaconda3\\envs\\tensorflow\\lib\\site-packages\\flask\\app.py\", line 1866, in handle_exception\n",
      "    reraise(exc_type, exc_value, tb)\n",
      "  File \"D:\\Anaconda3\\envs\\tensorflow\\lib\\site-packages\\flask\\_compat.py\", line 39, in reraise\n",
      "    raise value\n",
      "  File \"D:\\Anaconda3\\envs\\tensorflow\\lib\\site-packages\\flask\\app.py\", line 2446, in wsgi_app\n",
      "    response = self.full_dispatch_request()\n",
      "  File \"D:\\Anaconda3\\envs\\tensorflow\\lib\\site-packages\\flask\\app.py\", line 1951, in full_dispatch_request\n",
      "    rv = self.handle_user_exception(e)\n",
      "  File \"D:\\Anaconda3\\envs\\tensorflow\\lib\\site-packages\\flask\\app.py\", line 1820, in handle_user_exception\n",
      "    reraise(exc_type, exc_value, tb)\n",
      "  File \"D:\\Anaconda3\\envs\\tensorflow\\lib\\site-packages\\flask\\_compat.py\", line 39, in reraise\n",
      "    raise value\n",
      "  File \"D:\\Anaconda3\\envs\\tensorflow\\lib\\site-packages\\flask\\app.py\", line 1949, in full_dispatch_request\n",
      "    rv = self.dispatch_request()\n",
      "  File \"D:\\Anaconda3\\envs\\tensorflow\\lib\\site-packages\\flask\\app.py\", line 1935, in dispatch_request\n",
      "    return self.view_functions[rule.endpoint](**req.view_args)\n",
      "  File \"<ipython-input-5-7cdea6d243c0>\", line 67, in predict\n",
      "    \n",
      "  File \"<ipython-input-3-9828795baa13>\", line 18, in give_prediction\n",
      "    \n",
      "IndexError: list index out of range\n",
      "127.0.0.1 - - [01/Dec/2020 15:29:11] \"\u001b[37mGET /predict?__debugger__=yes&cmd=resource&f=style.css HTTP/1.1\u001b[0m\" 200 -\n",
      "127.0.0.1 - - [01/Dec/2020 15:29:11] \"\u001b[37mGET /predict?__debugger__=yes&cmd=resource&f=jquery.js HTTP/1.1\u001b[0m\" 200 -\n",
      "127.0.0.1 - - [01/Dec/2020 15:29:11] \"\u001b[37mGET /predict?__debugger__=yes&cmd=resource&f=debugger.js HTTP/1.1\u001b[0m\" 200 -\n",
      "127.0.0.1 - - [01/Dec/2020 15:29:11] \"\u001b[37mGET /predict?__debugger__=yes&cmd=resource&f=console.png HTTP/1.1\u001b[0m\" 200 -\n",
      "127.0.0.1 - - [01/Dec/2020 15:29:11] \"\u001b[37mGET /predict?__debugger__=yes&cmd=resource&f=ubuntu.ttf HTTP/1.1\u001b[0m\" 200 -\n",
      "127.0.0.1 - - [01/Dec/2020 15:29:11] \"\u001b[37mGET /predict?__debugger__=yes&cmd=resource&f=console.png HTTP/1.1\u001b[0m\" 200 -\n"
     ]
    },
    {
     "name": "stdout",
     "output_type": "stream",
     "text": [
      "\n"
     ]
    },
    {
     "name": "stderr",
     "output_type": "stream",
     "text": [
      "127.0.0.1 - - [01/Dec/2020 15:29:15] \"\u001b[37mPOST /predict HTTP/1.1\u001b[0m\" 200 -\n"
     ]
    },
    {
     "name": "stdout",
     "output_type": "stream",
     "text": [
      "how are you?\n",
      "[]\n"
     ]
    },
    {
     "name": "stderr",
     "output_type": "stream",
     "text": [
      "127.0.0.1 - - [01/Dec/2020 15:29:34] \"\u001b[37mGET / HTTP/1.1\u001b[0m\" 200 -\n",
      "127.0.0.1 - - [01/Dec/2020 15:30:06] \"\u001b[37mGET / HTTP/1.1\u001b[0m\" 200 -\n",
      "127.0.0.1 - - [01/Dec/2020 15:30:08] \"\u001b[37mGET / HTTP/1.1\u001b[0m\" 200 -\n",
      "127.0.0.1 - - [01/Dec/2020 15:30:41] \"\u001b[37mGET /predict HTTP/1.1\u001b[0m\" 200 -\n",
      "127.0.0.1 - - [01/Dec/2020 15:31:04] \"\u001b[37mGET / HTTP/1.1\u001b[0m\" 200 -\n",
      "127.0.0.1 - - [01/Dec/2020 15:31:10] \"\u001b[37mGET /login HTTP/1.1\u001b[0m\" 200 -\n",
      "127.0.0.1 - - [01/Dec/2020 15:31:11] \"\u001b[37mGET / HTTP/1.1\u001b[0m\" 200 -\n",
      "127.0.0.1 - - [01/Dec/2020 15:31:12] \"\u001b[37mGET / HTTP/1.1\u001b[0m\" 200 -\n",
      "127.0.0.1 - - [01/Dec/2020 15:31:20] \"\u001b[37mGET / HTTP/1.1\u001b[0m\" 200 -\n",
      "127.0.0.1 - - [01/Dec/2020 15:31:41] \"\u001b[37mGET / HTTP/1.1\u001b[0m\" 200 -\n",
      "127.0.0.1 - - [01/Dec/2020 15:31:41] \"\u001b[37mGET / HTTP/1.1\u001b[0m\" 200 -\n",
      "127.0.0.1 - - [01/Dec/2020 15:32:25] \"\u001b[37mGET /predict HTTP/1.1\u001b[0m\" 200 -\n",
      "127.0.0.1 - - [01/Dec/2020 15:32:30] \"\u001b[37mPOST /predict HTTP/1.1\u001b[0m\" 200 -\n"
     ]
    },
    {
     "name": "stdout",
     "output_type": "stream",
     "text": [
      "pav bhaji was good\n",
      "['pav bhaji']\n"
     ]
    },
    {
     "name": "stderr",
     "output_type": "stream",
     "text": [
      "127.0.0.1 - - [01/Dec/2020 15:32:31] \"\u001b[37mGET / HTTP/1.1\u001b[0m\" 200 -\n"
     ]
    }
   ],
   "source": [
    "app = Flask(__name__)\n",
    "\n",
    "@app.route('/')\n",
    "def index():\n",
    "    return render_template('index.html')\n",
    "\n",
    "@app.route('/food')\n",
    "def food():\n",
    "    dish = request.args.get('dish_name')\n",
    "    review = []\n",
    "    rev = pd.read_csv(\"NVA_PHRASE_SENTIMENT_215.csv\")\n",
    "    '''\n",
    "    phr = list(rev['phrase'])\n",
    "    hotel = list(rev['hotel'])\n",
    "    phrase_hotel_dict = {}\n",
    "    for i,j in zip(phr,h) :\n",
    "        if dish in i :\n",
    "            if j in phrase_hotel_dict :\n",
    "                phrase_hotel_dict[j].append(i)\n",
    "            else :\n",
    "                phrase_hotel_dict[j] = [i]\n",
    "    '''\n",
    "    return render_template('food.html')\n",
    "\n",
    "@app.route('/signup')\n",
    "def signup():\n",
    "    return render_template('signup.html')\n",
    "\n",
    "@app.route('/login')\n",
    "def login():\n",
    "    return render_template('login.html')\n",
    "\n",
    "@app.route('/profile')\n",
    "def profile():\n",
    "    name = request.args.get('name')\n",
    "    password = request.args.get('password')\n",
    "    return render_template('profile.html',name=name)\n",
    "\n",
    "@app.route('/restaurant')\n",
    "def restaurant():\n",
    "    rest_name = request.args.get('rest_name')\n",
    "    rest_name = rest_name.lower()\n",
    "    review = []\n",
    "    df = pd.read_csv(\"NVA_PHRASE_SENTIMENT_215.csv\")\n",
    "    \n",
    "    df['hotel'] = df['hotel'].apply(lambda s : s.lower())\n",
    "    #phrase_list = list(rev[rev['hotel'] == rest_name.lower() ]['phrase'])\n",
    "\n",
    "    rev = df[df['hotel']==rest_name].sort_values('polarity',ascending=False)\n",
    "    phrase_list = list(rev['phrase'])\n",
    "    polarity_list = list(rev['polarity'])\n",
    "    length = len(phrase_list)\n",
    "\n",
    "    return render_template('restaurant.html',rest_name=rest_name,phrase_list=phrase_list,polarity_list=polarity_list,length = length)\n",
    "\n",
    "\n",
    "########\n",
    "\n",
    "@app.route('/predict',methods = [\"GET\",\"POST\"])\n",
    "def predict():\n",
    "    if request.method == \"POST\" :\n",
    "        sentence = request.form.get(\"sentence\")\n",
    "        #uncomment the line below after the function\n",
    "    \n",
    "        sentence = ' '.join([word.lower() for word in sentence.split()])\n",
    "        print(sentence)\n",
    "        food = give_prediction(sentence)\n",
    "        # food = ['name','xyz'] ## delete this line after uncommenting the above line\n",
    "        print(food)\n",
    "        l = []\n",
    "        for dish in food:\n",
    "        \tl += dish.split()\n",
    "        \n",
    "        return render_template('predict_dish.html',food = l,sentence = sentence.split())\n",
    "    else :\n",
    "        return render_template('predict_dish.html')\n",
    "\n",
    "########\n",
    "\n",
    "if __name__ == \"__main__\":\n",
    "\tapp.run(debug=True,use_reloader=False)\n"
   ]
  },
  {
   "cell_type": "code",
   "execution_count": null,
   "metadata": {},
   "outputs": [],
   "source": []
  }
 ],
 "metadata": {
  "kernelspec": {
   "display_name": "Python 3.7 (tensorflow)",
   "language": "python",
   "name": "tensorflow"
  },
  "language_info": {
   "codemirror_mode": {
    "name": "ipython",
    "version": 3
   },
   "file_extension": ".py",
   "mimetype": "text/x-python",
   "name": "python",
   "nbconvert_exporter": "python",
   "pygments_lexer": "ipython3",
   "version": "3.7.6"
  }
 },
 "nbformat": 4,
 "nbformat_minor": 2
}
