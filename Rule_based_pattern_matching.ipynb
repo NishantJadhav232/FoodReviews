{
  "nbformat": 4,
  "nbformat_minor": 0,
  "metadata": {
    "colab": {
      "name": "Rule based pattern matching.ipynb",
      "provenance": []
    },
    "kernelspec": {
      "name": "python3",
      "display_name": "Python 3"
    }
  },
  "cells": [
    {
      "cell_type": "code",
      "metadata": {
        "colab_type": "code",
        "id": "qK55SugqE-Db",
        "colab": {}
      },
      "source": [
        "import spacy\n",
        "from spacy.matcher import Matcher"
      ],
      "execution_count": 1,
      "outputs": []
    },
    {
      "cell_type": "code",
      "metadata": {
        "colab_type": "code",
        "id": "4QOd-ynIE-Dz",
        "colab": {}
      },
      "source": [
        "nlp = spacy.load('en_core_web_sm')"
      ],
      "execution_count": 2,
      "outputs": []
    },
    {
      "cell_type": "markdown",
      "metadata": {
        "id": "HhNp5d40HAtE",
        "colab_type": "text"
      },
      "source": [
        "---\n",
        "**Current Rules**\n",
        "\n",
        "---\n",
        "\n"
      ]
    },
    {
      "cell_type": "code",
      "metadata": {
        "id": "E9SBjPBngsEA",
        "colab_type": "code",
        "colab": {}
      },
      "source": [
        "matcher = Matcher(nlp.vocab)"
      ],
      "execution_count": 3,
      "outputs": []
    },
    {
      "cell_type": "code",
      "metadata": {
        "id": "FNlWwvkkRHiO",
        "colab_type": "code",
        "colab": {}
      },
      "source": [
        "#pattern1 = [{ \"TAG\": \"NNP\" , \"TAG\": \"NNS\" , \"TAG\":\"NN\"}, {\"TAG\": \"VBD\",\"TAG\":\"VBZ\"}, {\"TAG\":\"RB\",\"OP\":'?'}, {\"TAG\": \"JJ\"}]\n",
        "#pattern2 = [{\"TAG\":\"RB\",\"OP\":'?'},{\"TAG\": \"JJ\"},{\"TAG\": \"NNP\",\"TAG\": \"NNS\",\"TAG\":\"NN\"}]\n",
        "\n",
        "pattern1 = [{\"TAG\": {\"IN\":[\"NNP\",\"NNS\",\"NN\"]}}, {\"TAG\": {\"IN\":[\"VBD\",\"VBZ\"]}}, {\"TAG\":\"RB\",\"OP\":'?'}, {\"TAG\": \"JJ\",\"OP\":\"+\"}]\n",
        "pattern2 = [{\"TAG\":\"RB\",\"OP\":'?'},{\"TAG\": \"JJ\"},{\"TAG\": {\"IN\":[\"NNP\",\"NNS\",\"NN\"]}}]\n",
        "\n",
        "matcher.add(\"nva\", None, pattern1)\n",
        "matcher.add(\"an\", None, pattern2)"
      ],
      "execution_count": 4,
      "outputs": []
    },
    {
      "cell_type": "code",
      "metadata": {
        "id": "--3krA2Ej_Jt",
        "colab_type": "code",
        "colab": {
          "base_uri": "https://localhost:8080/",
          "height": 101
        },
        "outputId": "7b02d90b-64ee-428b-ff4a-2eb8af707b67"
      },
      "source": [
        "#doc1 = nlp(\"pizza was good but rice was very bad , very poor service but place was amazing\")\n",
        "doc1 = nlp(\"fries were bad but Burger was good , poor place , Service is amazing \")\n",
        "#doc1 = nlp(\"place was little clean\")\n",
        "\n",
        "mat = matcher(doc1)\n",
        "print(mat)\n",
        "\n",
        "for match_id, start, end in mat :\n",
        "  string_id = nlp.vocab.strings[match_id]\n",
        "  span = doc1[start:end]\n",
        "  if string_id == 'nva' :\n",
        "    pair = [span[0],span[2:]]\n",
        "  elif string_id == 'an' :\n",
        "    pair = [span[-1],span[:-1]]\n",
        "  print(match_id,string_id,start, end, span.text,pair)"
      ],
      "execution_count": 5,
      "outputs": [
        {
          "output_type": "stream",
          "text": [
            "[(2410998387917754427, 0, 3), (2410998387917754427, 4, 7), (15099054000809333061, 8, 10), (2410998387917754427, 11, 14)]\n",
            "2410998387917754427 nva 0 3 fries were bad [fries, bad]\n",
            "2410998387917754427 nva 4 7 Burger was good [Burger, good]\n",
            "15099054000809333061 an 8 10 poor place [place, poor]\n",
            "2410998387917754427 nva 11 14 Service is amazing [Service, amazing]\n"
          ],
          "name": "stdout"
        }
      ]
    },
    {
      "cell_type": "code",
      "metadata": {
        "id": "3wXGTOA5SDMe",
        "colab_type": "code",
        "colab": {
          "base_uri": "https://localhost:8080/",
          "height": 252
        },
        "outputId": "db9d7640-dbfd-44cc-b81c-6c1d792c1310"
      },
      "source": [
        "for token in doc1 :\n",
        "  print(token.text,token.tag_)"
      ],
      "execution_count": 6,
      "outputs": [
        {
          "output_type": "stream",
          "text": [
            "fries NNS\n",
            "were VBD\n",
            "bad JJ\n",
            "but CC\n",
            "Burger NNP\n",
            "was VBD\n",
            "good JJ\n",
            ", ,\n",
            "poor JJ\n",
            "place NN\n",
            ", ,\n",
            "Service NN\n",
            "is VBZ\n",
            "amazing JJ\n"
          ],
          "name": "stdout"
        }
      ]
    },
    {
      "cell_type": "markdown",
      "metadata": {
        "id": "-HKbH1tUGyoQ",
        "colab_type": "text"
      },
      "source": [
        "---\n",
        "**Current function**\n",
        "\n",
        "---\n"
      ]
    },
    {
      "cell_type": "code",
      "metadata": {
        "id": "N2UqSkZLBYFQ",
        "colab_type": "code",
        "colab": {}
      },
      "source": [
        "def form_pair(review):\n",
        "  matcher = Matcher(nlp.vocab)\n",
        "  \n",
        "  pattern1 = [{\"TAG\": {\"IN\":[\"NNP\",\"NNS\",\"NN\"]}}, {\"TAG\": {\"IN\":[\"VBD\",\"VBZ\"]}}, {\"TAG\":\"RB\",\"OP\":'?'}, {\"TAG\": \"JJ\",\"OP\":\"+\"}]\n",
        "  pattern2 = [{\"TAG\":\"RB\",\"OP\":'?'},{\"TAG\": \"JJ\"},{\"TAG\": {\"IN\":[\"NNP\",\"NNS\",\"NN\"]}}]\n",
        "\n",
        "  matcher.add(\"nva\", None, pattern1)\n",
        "  matcher.add(\"an\", None, pattern2)\n",
        "\n",
        "  doc = nlp(review)\n",
        "  match = matcher(doc)\n",
        "  \n",
        "  all_pairs = []\n",
        "  extracted_text = []\n",
        "  for match_id, start, end in match :\n",
        "    string_id = nlp.vocab.strings[match_id]\n",
        "    span = doc[start:end]\n",
        "    pair=()\n",
        "    if string_id == \"nva\" :\n",
        "      pair = (span[0],span[2:])\n",
        "    elif string_id == \"an\" :\n",
        "      pair = (span[-1],span[:-1])\n",
        "    #print(match_id, string_id, start, end, span.text, pair)\n",
        "    all_pairs.append(pair)\n",
        "    extracted_text.append(span)\n",
        "  return all_pairs,extracted_text"
      ],
      "execution_count": 7,
      "outputs": []
    },
    {
      "cell_type": "code",
      "metadata": {
        "id": "ct3ZTF6yFpYo",
        "colab_type": "code",
        "colab": {
          "base_uri": "https://localhost:8080/",
          "height": 168
        },
        "outputId": "7fd66c3f-1c37-43e1-8f25-953349150764"
      },
      "source": [
        "reviews = [\"pizza was good but rice were very bad , very poor service but place was amazing\",\"fries were bad but Burger was good , poor place , Service is amazing \",\"place was little clean\"]\n",
        "for review in reviews :\n",
        "  all_pairs,extracted_text = form_pair(review)\n",
        "  print(review ,\"\\n\" ,all_pairs,\"\\n\")"
      ],
      "execution_count": 8,
      "outputs": [
        {
          "output_type": "stream",
          "text": [
            "pizza was good but rice were very bad , very poor service but place was amazing \n",
            " [(pizza, good), (rice, very bad), (service, very poor), (service, poor), (place, amazing)] \n",
            "\n",
            "fries were bad but Burger was good , poor place , Service is amazing  \n",
            " [(fries, bad), (Burger, good), (place, poor), (Service, amazing)] \n",
            "\n",
            "place was little clean \n",
            " [(place, little clean)] \n",
            "\n"
          ],
          "name": "stdout"
        }
      ]
    },
    {
      "cell_type": "code",
      "metadata": {
        "id": "ZD-GW1iZFrIS",
        "colab_type": "code",
        "colab": {}
      },
      "source": [
        ""
      ],
      "execution_count": null,
      "outputs": []
    }
  ]
}