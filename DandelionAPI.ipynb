{
 "cells": [
  {
   "cell_type": "code",
   "execution_count": 1,
   "metadata": {},
   "outputs": [],
   "source": [
    "from dandelion import DataTXT"
   ]
  },
  {
   "cell_type": "code",
   "execution_count": 2,
   "metadata": {},
   "outputs": [],
   "source": [
    "datatext = DataTXT(token='ac371a81331047b98c676c289bef6ee7')"
   ]
  },
  {
   "cell_type": "code",
   "execution_count": 3,
   "metadata": {},
   "outputs": [],
   "source": [
    "response = datatext.nex('The doctor says an apple is better than an orange')"
   ]
  },
  {
   "cell_type": "code",
   "execution_count": 4,
   "metadata": {},
   "outputs": [
    {
     "name": "stdout",
     "output_type": "stream",
     "text": [
      "{'start': 19, 'end': 24, 'spot': 'apple', 'confidence': 0.7642, 'id': 18978754, 'title': 'Apple', 'uri': 'http://en.wikipedia.org/wiki/Apple', 'label': 'Apple'}\n",
      "{'start': 43, 'end': 49, 'spot': 'orange', 'confidence': 0.7254, 'id': 4984440, 'title': 'Orange (fruit)', 'uri': 'http://en.wikipedia.org/wiki/Orange_%28fruit%29', 'label': 'Orange'}\n"
     ]
    }
   ],
   "source": [
    "for anot in response.annotations:\n",
    "    print(anot)"
   ]
  },
  {
   "cell_type": "code",
   "execution_count": null,
   "metadata": {},
   "outputs": [],
   "source": []
  }
 ],
 "metadata": {
  "kernelspec": {
   "display_name": "Python 3",
   "language": "python",
   "name": "python3"
  },
  "language_info": {
   "codemirror_mode": {
    "name": "ipython",
    "version": 3
   },
   "file_extension": ".py",
   "mimetype": "text/x-python",
   "name": "python",
   "nbconvert_exporter": "python",
   "pygments_lexer": "ipython3",
   "version": "3.7.3"
  }
 },
 "nbformat": 4,
 "nbformat_minor": 2
}
