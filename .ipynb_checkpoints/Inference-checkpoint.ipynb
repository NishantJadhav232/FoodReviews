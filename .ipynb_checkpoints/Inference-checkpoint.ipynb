{
 "cells": [
  {
   "cell_type": "code",
   "execution_count": 1,
   "metadata": {
    "colab": {},
    "colab_type": "code",
    "id": "TSLUgfTtESZy"
   },
   "outputs": [],
   "source": [
    "import pandas as pd\n",
    "import numpy as np\n",
    "import tensorflow as tf\n",
    "import re\n",
    "from tensorflow.keras.preprocessing.sequence import pad_sequences\n",
    "from tensorflow.keras.preprocessing.text import Tokenizer\n",
    "from tensorflow.keras import backend as K"
   ]
  },
  {
   "cell_type": "code",
   "execution_count": 12,
   "metadata": {},
   "outputs": [],
   "source": [
    "with open('nva_phrases.txt','r') as file:\n",
    "    candidates = file.read()\n",
    "with open('nva_queries.txt','r') as file:\n",
    "    queries = file.read()"
   ]
  },
  {
   "cell_type": "code",
   "execution_count": 13,
   "metadata": {},
   "outputs": [],
   "source": [
    "candidates = candidates.split('\\n')\n",
    "queries = queries.split('\\n')"
   ]
  },
  {
   "cell_type": "code",
   "execution_count": 99,
   "metadata": {},
   "outputs": [
    {
     "name": "stdout",
     "output_type": "stream",
     "text": [
      "199\n",
      "24\n"
     ]
    }
   ],
   "source": [
    "candidates = list(set(candidates))\n",
    "queries = list(set(queries))\n",
    "print(len(candidates))\n",
    "print(len(queries))"
   ]
  },
  {
   "cell_type": "code",
   "execution_count": 100,
   "metadata": {},
   "outputs": [],
   "source": [
    "questions=[]\n",
    "for query in queries:\n",
    "    pairs =[]\n",
    "    for candidate in candidates:\n",
    "        pair=[]\n",
    "        pair.append(query)\n",
    "        pair.append(candidate)\n",
    "        pairs.append(pair)\n",
    "    questions.extend(pairs)"
   ]
  },
  {
   "cell_type": "code",
   "execution_count": 101,
   "metadata": {},
   "outputs": [
    {
     "name": "stdout",
     "output_type": "stream",
     "text": [
      "(4752, 2)\n"
     ]
    },
    {
     "data": {
      "text/html": [
       "<div>\n",
       "<style scoped>\n",
       "    .dataframe tbody tr th:only-of-type {\n",
       "        vertical-align: middle;\n",
       "    }\n",
       "\n",
       "    .dataframe tbody tr th {\n",
       "        vertical-align: top;\n",
       "    }\n",
       "\n",
       "    .dataframe thead th {\n",
       "        text-align: right;\n",
       "    }\n",
       "</style>\n",
       "<table border=\"1\" class=\"dataframe\">\n",
       "  <thead>\n",
       "    <tr style=\"text-align: right;\">\n",
       "      <th></th>\n",
       "      <th>question1</th>\n",
       "      <th>question2</th>\n",
       "    </tr>\n",
       "  </thead>\n",
       "  <tbody>\n",
       "    <tr>\n",
       "      <th>4747</th>\n",
       "      <td>Parathas were delicious</td>\n",
       "      <td>Chicken was tender</td>\n",
       "    </tr>\n",
       "    <tr>\n",
       "      <th>4748</th>\n",
       "      <td>Parathas were delicious</td>\n",
       "      <td>meat was indistinguishable ENDPAD due</td>\n",
       "    </tr>\n",
       "    <tr>\n",
       "      <th>4749</th>\n",
       "      <td>Parathas were delicious</td>\n",
       "      <td>Biryani was too good</td>\n",
       "    </tr>\n",
       "    <tr>\n",
       "      <th>4750</th>\n",
       "      <td>Parathas were delicious</td>\n",
       "      <td>first choices are always heaps</td>\n",
       "    </tr>\n",
       "    <tr>\n",
       "      <th>4751</th>\n",
       "      <td>Parathas were delicious</td>\n",
       "      <td>kebabs are good</td>\n",
       "    </tr>\n",
       "  </tbody>\n",
       "</table>\n",
       "</div>"
      ],
      "text/plain": [
       "                    question1                              question2\n",
       "4747  Parathas were delicious                     Chicken was tender\n",
       "4748  Parathas were delicious  meat was indistinguishable ENDPAD due\n",
       "4749  Parathas were delicious                   Biryani was too good\n",
       "4750  Parathas were delicious         first choices are always heaps\n",
       "4751  Parathas were delicious                        kebabs are good"
      ]
     },
     "execution_count": 101,
     "metadata": {},
     "output_type": "execute_result"
    }
   ],
   "source": [
    "df = pd.DataFrame(questions,columns=['question1','question2'])\n",
    "df= df[df.question2!=''].reset_index().drop('index',axis=1)\n",
    "print(df.shape)\n",
    "df.tail()"
   ]
  },
  {
   "cell_type": "markdown",
   "metadata": {
    "colab_type": "text",
    "id": "3Dfw4LpGgHAd"
   },
   "source": [
    "##### Functions"
   ]
  },
  {
   "cell_type": "code",
   "execution_count": 102,
   "metadata": {
    "colab": {
     "base_uri": "https://localhost:8080/",
     "height": 87
    },
    "colab_type": "code",
    "id": "Y-ZLp-0pFdA_",
    "outputId": "a731203a-26f4-491c-ce08-f4b8e1ffb175"
   },
   "outputs": [
    {
     "name": "stdout",
     "output_type": "stream",
     "text": [
      "['i', 'me', 'my', 'myself', 'we', 'our', 'ours', 'ourselves', 'you', \"you're\", \"you've\", \"you'll\", \"you'd\", 'your', 'yours', 'yourself', 'yourselves', 'he', 'him', 'his', 'himself', 'she', \"she's\", 'her', 'hers', 'herself', 'it', \"it's\", 'its', 'itself', 'they', 'them', 'their', 'theirs', 'themselves', 'what', 'which', 'who', 'whom', 'this', 'that', \"that'll\", 'these', 'those', 'am', 'is', 'are', 'was', 'were', 'be', 'been', 'being', 'have', 'has', 'had', 'having', 'do', 'does', 'did', 'doing', 'a', 'an', 'the', 'and', 'but', 'if', 'or', 'because', 'as', 'while', 'of', 'at', 'by', 'for', 'with', 'about', 'between', 'into', 'through', 'during', 'before', 'after', 'above', 'below', 'to', 'from', 'up', 'down', 'in', 'out', 'on', 'off', 'over', 'under', 'again', 'further', 'then', 'once', 'here', 'there', 'when', 'where', 'why', 'how', 'all', 'any', 'both', 'each', 'few', 'more', 'most', 'other', 'some', 'such', 'no', 'nor', 'only', 'own', 'same', 'so', 'than', 'too', 'very', 's', 't', 'can', 'will', 'just', 'don', \"don't\", 'should', \"should've\", 'now', 'd', 'll', 'm', 'o', 're', 've', 'y', 'ain', 'aren', \"aren't\", 'couldn', \"couldn't\", 'didn', \"didn't\", 'doesn', \"doesn't\", 'hadn', \"hadn't\", 'hasn', \"hasn't\", 'haven', \"haven't\", 'isn', \"isn't\", 'ma', 'mightn', \"mightn't\", 'mustn', \"mustn't\", 'needn', \"needn't\", 'shan', \"shan't\", 'shouldn', \"shouldn't\", 'wasn', \"wasn't\", 'weren', \"weren't\", 'won', \"won't\", 'wouldn', \"wouldn't\"]\n"
     ]
    }
   ],
   "source": [
    "import nltk\n",
    "# nltk.download('stopwords')\n",
    "from nltk.corpus import stopwords\n",
    "stop_words = stopwords.words('english')\n",
    "imp_stopwords=['not', 'against','until']\n",
    "for word in imp_stopwords:\n",
    "  #print(word)\n",
    "  stop_words.remove(word)\n",
    "print(stop_words)"
   ]
  },
  {
   "cell_type": "code",
   "execution_count": 103,
   "metadata": {
    "colab": {},
    "colab_type": "code",
    "id": "i9zSVHpnfo92"
   },
   "outputs": [],
   "source": [
    "def text_process(text):\n",
    "    ''' Pre process and convert texts to a list of words '''\n",
    "    text = str(text)\n",
    "    text = text.lower()\n",
    "\n",
    "    # Clean the text\n",
    "    text = re.sub(r\"[^A-Za-z0-9^,!.\\/'+-=]\", \" \", text)\n",
    "    text = re.sub(r\"what's\", \"what is \", text)\n",
    "    text = re.sub(r\"\\'s\", \" \", text)\n",
    "    text = re.sub(r\"\\'ve\", \" have \", text)\n",
    "    text = re.sub(r\"can't\", \"cannot \", text)\n",
    "    text = re.sub(r\"n't\", \" not \", text)\n",
    "    text = re.sub(r\"i'm\", \"i am \", text)\n",
    "    text = re.sub(r\"\\'re\", \" are \", text)\n",
    "    text = re.sub(r\"\\'d\", \" would \", text)\n",
    "    text = re.sub(r\"\\'ll\", \" will \", text)\n",
    "    text = re.sub(r\",\", \" \", text)\n",
    "    text = re.sub(r\"\\.\", \" \", text)\n",
    "    text = re.sub(r\"!\", \" ! \", text)\n",
    "    text = re.sub(r\"\\/\", \" \", text)\n",
    "    text = re.sub(r\"\\^\", \" ^ \", text)\n",
    "    text = re.sub(r\"\\+\", \" + \", text)\n",
    "    text = re.sub(r\"\\-\", \" - \", text)\n",
    "    text = re.sub(r\"\\=\", \" = \", text)\n",
    "    text = re.sub(r\"'\", \" \", text)\n",
    "    text = re.sub(r\"(\\d+)(k)\", r\"\\g<1>000\", text)\n",
    "    text = re.sub(r\":\", \" : \", text)\n",
    "    text = re.sub(r\" e g \", \" eg \", text)\n",
    "    text = re.sub(r\" b g \", \" bg \", text)\n",
    "    text = re.sub(r\" u s \", \" american \", text)\n",
    "    text = re.sub(r\"\\0s\", \"0\", text)\n",
    "    text = re.sub(r\" 9 11 \", \"911\", text)\n",
    "    text = re.sub(r\"e - mail\", \"email\", text)\n",
    "    text = re.sub(r\"j k\", \"jk\", text)\n",
    "    text = re.sub(r\"\\s{2,}\", \" \", text)\n",
    "\n",
    "    text = text.split()\n",
    "    text = [word for word in text if word not in stop_words]\n",
    "    text = ' '.join(text)\n",
    "    return text"
   ]
  },
  {
   "cell_type": "code",
   "execution_count": 104,
   "metadata": {
    "colab": {},
    "colab_type": "code",
    "id": "fqr0DnZoftPl"
   },
   "outputs": [],
   "source": [
    "def mandist(left, right):\n",
    "    ''' Helper function for the similarity estimate of the LSTMs outputs'''\n",
    "    return K.exp(-K.sum(K.abs(left-right), axis=1, keepdims=True))"
   ]
  },
  {
   "cell_type": "markdown",
   "metadata": {
    "colab_type": "text",
    "id": "yPP4DbVo58Rm"
   },
   "source": [
    "##### Preprocess"
   ]
  },
  {
   "cell_type": "code",
   "execution_count": 105,
   "metadata": {
    "colab": {
     "base_uri": "https://localhost:8080/",
     "height": 343
    },
    "colab_type": "code",
    "id": "MszjUx0-gF7y",
    "outputId": "9cc5923b-7ab1-446a-8f3f-41d05430ac71"
   },
   "outputs": [
    {
     "data": {
      "text/html": [
       "<div>\n",
       "<style scoped>\n",
       "    .dataframe tbody tr th:only-of-type {\n",
       "        vertical-align: middle;\n",
       "    }\n",
       "\n",
       "    .dataframe tbody tr th {\n",
       "        vertical-align: top;\n",
       "    }\n",
       "\n",
       "    .dataframe thead th {\n",
       "        text-align: right;\n",
       "    }\n",
       "</style>\n",
       "<table border=\"1\" class=\"dataframe\">\n",
       "  <thead>\n",
       "    <tr style=\"text-align: right;\">\n",
       "      <th></th>\n",
       "      <th>question1</th>\n",
       "      <th>question2</th>\n",
       "      <th>question1_p</th>\n",
       "      <th>question2_p</th>\n",
       "    </tr>\n",
       "  </thead>\n",
       "  <tbody>\n",
       "    <tr>\n",
       "      <th>4742</th>\n",
       "      <td>Parathas were delicious</td>\n",
       "      <td>burger and sandwich was good</td>\n",
       "      <td>parathas delicious</td>\n",
       "      <td>burger sandwich good</td>\n",
       "    </tr>\n",
       "    <tr>\n",
       "      <th>4743</th>\n",
       "      <td>Parathas were delicious</td>\n",
       "      <td>sizzlers are simply yumm</td>\n",
       "      <td>parathas delicious</td>\n",
       "      <td>sizzlers simply yumm</td>\n",
       "    </tr>\n",
       "    <tr>\n",
       "      <th>4744</th>\n",
       "      <td>Parathas were delicious</td>\n",
       "      <td>chole gravy was fine</td>\n",
       "      <td>parathas delicious</td>\n",
       "      <td>chole gravy fine</td>\n",
       "    </tr>\n",
       "    <tr>\n",
       "      <th>4745</th>\n",
       "      <td>Parathas were delicious</td>\n",
       "      <td>Pizzas are delicious</td>\n",
       "      <td>parathas delicious</td>\n",
       "      <td>pizzas delicious</td>\n",
       "    </tr>\n",
       "    <tr>\n",
       "      <th>4746</th>\n",
       "      <td>Parathas were delicious</td>\n",
       "      <td>Homemade lichi flavoured lemonade</td>\n",
       "      <td>parathas delicious</td>\n",
       "      <td>homemade lichi flavoured lemonade</td>\n",
       "    </tr>\n",
       "    <tr>\n",
       "      <th>4747</th>\n",
       "      <td>Parathas were delicious</td>\n",
       "      <td>Chicken was tender</td>\n",
       "      <td>parathas delicious</td>\n",
       "      <td>chicken tender</td>\n",
       "    </tr>\n",
       "    <tr>\n",
       "      <th>4748</th>\n",
       "      <td>Parathas were delicious</td>\n",
       "      <td>meat was indistinguishable ENDPAD due</td>\n",
       "      <td>parathas delicious</td>\n",
       "      <td>meat indistinguishable endpad due</td>\n",
       "    </tr>\n",
       "    <tr>\n",
       "      <th>4749</th>\n",
       "      <td>Parathas were delicious</td>\n",
       "      <td>Biryani was too good</td>\n",
       "      <td>parathas delicious</td>\n",
       "      <td>biryani good</td>\n",
       "    </tr>\n",
       "    <tr>\n",
       "      <th>4750</th>\n",
       "      <td>Parathas were delicious</td>\n",
       "      <td>first choices are always heaps</td>\n",
       "      <td>parathas delicious</td>\n",
       "      <td>first choices always heaps</td>\n",
       "    </tr>\n",
       "    <tr>\n",
       "      <th>4751</th>\n",
       "      <td>Parathas were delicious</td>\n",
       "      <td>kebabs are good</td>\n",
       "      <td>parathas delicious</td>\n",
       "      <td>kebabs good</td>\n",
       "    </tr>\n",
       "  </tbody>\n",
       "</table>\n",
       "</div>"
      ],
      "text/plain": [
       "                    question1                              question2  \\\n",
       "4742  Parathas were delicious           burger and sandwich was good   \n",
       "4743  Parathas were delicious               sizzlers are simply yumm   \n",
       "4744  Parathas were delicious                   chole gravy was fine   \n",
       "4745  Parathas were delicious                   Pizzas are delicious   \n",
       "4746  Parathas were delicious      Homemade lichi flavoured lemonade   \n",
       "4747  Parathas were delicious                     Chicken was tender   \n",
       "4748  Parathas were delicious  meat was indistinguishable ENDPAD due   \n",
       "4749  Parathas were delicious                   Biryani was too good   \n",
       "4750  Parathas were delicious         first choices are always heaps   \n",
       "4751  Parathas were delicious                        kebabs are good   \n",
       "\n",
       "             question1_p                        question2_p  \n",
       "4742  parathas delicious               burger sandwich good  \n",
       "4743  parathas delicious               sizzlers simply yumm  \n",
       "4744  parathas delicious                   chole gravy fine  \n",
       "4745  parathas delicious                   pizzas delicious  \n",
       "4746  parathas delicious  homemade lichi flavoured lemonade  \n",
       "4747  parathas delicious                     chicken tender  \n",
       "4748  parathas delicious  meat indistinguishable endpad due  \n",
       "4749  parathas delicious                       biryani good  \n",
       "4750  parathas delicious         first choices always heaps  \n",
       "4751  parathas delicious                        kebabs good  "
      ]
     },
     "execution_count": 105,
     "metadata": {},
     "output_type": "execute_result"
    }
   ],
   "source": [
    "df['question1_p'] = df['question1'].apply(text_process)\n",
    "df['question2_p'] = df['question2'].apply(text_process)\n",
    "df.tail(10)"
   ]
  },
  {
   "cell_type": "code",
   "execution_count": 106,
   "metadata": {
    "colab": {},
    "colab_type": "code",
    "id": "N3x6BVsXg_cU"
   },
   "outputs": [],
   "source": [
    "import pickle\n",
    "tokenizer = pickle.load(open('BILSTM_stop_tokenizer','rb'))"
   ]
  },
  {
   "cell_type": "code",
   "execution_count": 107,
   "metadata": {
    "colab": {},
    "colab_type": "code",
    "id": "nwoaUkejhTNn"
   },
   "outputs": [],
   "source": [
    "MAX_LEN=109\n",
    "X_left = tokenizer.texts_to_sequences(df.question1_p)\n",
    "X_right = tokenizer.texts_to_sequences(df.question2_p)\n",
    "X_left_padded = pad_sequences(X_left, maxlen=MAX_LEN)\n",
    "X_right_padded = pad_sequences(X_right, maxlen=MAX_LEN)"
   ]
  },
  {
   "cell_type": "code",
   "execution_count": 108,
   "metadata": {
    "colab": {
     "base_uri": "https://localhost:8080/",
     "height": 437
    },
    "colab_type": "code",
    "id": "wGvZQmp2Fal1",
    "outputId": "e8c29eaa-3462-46fa-bdca-22a93e6c2b79"
   },
   "outputs": [
    {
     "name": "stdout",
     "output_type": "stream",
     "text": [
      "Model: \"model\"\n",
      "__________________________________________________________________________________________________\n",
      "Layer (type)                    Output Shape         Param #     Connected to                     \n",
      "==================================================================================================\n",
      "input_1 (InputLayer)            [(None, 109)]        0                                            \n",
      "__________________________________________________________________________________________________\n",
      "input_2 (InputLayer)            [(None, 109)]        0                                            \n",
      "__________________________________________________________________________________________________\n",
      "embedding (Embedding)           (None, 109, 300)     24493200    input_1[0][0]                    \n",
      "                                                                 input_2[0][0]                    \n",
      "__________________________________________________________________________________________________\n",
      "bidirectional (Bidirectional)   (None, 50)           140400      embedding[0][0]                  \n",
      "                                                                 embedding[1][0]                  \n",
      "__________________________________________________________________________________________________\n",
      "dropout (Dropout)               (None, 50)           0           bidirectional[0][0]              \n",
      "__________________________________________________________________________________________________\n",
      "dropout_1 (Dropout)             (None, 50)           0           bidirectional[1][0]              \n",
      "__________________________________________________________________________________________________\n",
      "lambda (Lambda)                 (None, 1)            0           dropout[0][0]                    \n",
      "                                                                 dropout_1[0][0]                  \n",
      "==================================================================================================\n",
      "Total params: 24,633,600\n",
      "Trainable params: 24,633,600\n",
      "Non-trainable params: 0\n",
      "__________________________________________________________________________________________________\n"
     ]
    }
   ],
   "source": [
    "model = tf.keras.models.load_model('BILSTM_stop.h5')\n",
    "model.summary()"
   ]
  },
  {
   "cell_type": "markdown",
   "metadata": {
    "colab_type": "text",
    "id": "-QWOhxaV6aZ4"
   },
   "source": [
    "##### Predict"
   ]
  },
  {
   "cell_type": "code",
   "execution_count": 109,
   "metadata": {
    "colab": {},
    "colab_type": "code",
    "id": "f9HNmKZgGT1g"
   },
   "outputs": [
    {
     "name": "stdout",
     "output_type": "stream",
     "text": [
      "Wall time: 6.22 s\n"
     ]
    }
   ],
   "source": [
    "%%time\n",
    "predictions = model.predict([X_left_padded, X_right_padded])"
   ]
  },
  {
   "cell_type": "code",
   "execution_count": 110,
   "metadata": {
    "colab": {},
    "colab_type": "code",
    "id": "fimx9QdAkQ1x"
   },
   "outputs": [],
   "source": [
    "records=[]\n",
    "for idx in range(len(predictions)):\n",
    "    record=[]\n",
    "    record.append(df.question1.iloc[idx])\n",
    "    record.append(df.question2.iloc[idx])\n",
    "    record.append(df.question1_p.iloc[idx])\n",
    "    record.append(df.question2_p.iloc[idx])\n",
    "    record.append(predictions[idx][0])\n",
    "    records.append(record)"
   ]
  },
  {
   "cell_type": "code",
   "execution_count": 111,
   "metadata": {
    "colab": {
     "base_uri": "https://localhost:8080/",
     "height": 0
    },
    "colab_type": "code",
    "id": "SE2qnDrsT9Tm",
    "outputId": "efaf586f-b6e3-412b-a73f-7d63f4abdb6d"
   },
   "outputs": [
    {
     "name": "stdout",
     "output_type": "stream",
     "text": [
      "(4752, 5)\n"
     ]
    },
    {
     "data": {
      "text/html": [
       "<div>\n",
       "<style scoped>\n",
       "    .dataframe tbody tr th:only-of-type {\n",
       "        vertical-align: middle;\n",
       "    }\n",
       "\n",
       "    .dataframe tbody tr th {\n",
       "        vertical-align: top;\n",
       "    }\n",
       "\n",
       "    .dataframe thead th {\n",
       "        text-align: right;\n",
       "    }\n",
       "</style>\n",
       "<table border=\"1\" class=\"dataframe\">\n",
       "  <thead>\n",
       "    <tr style=\"text-align: right;\">\n",
       "      <th></th>\n",
       "      <th>question1</th>\n",
       "      <th>question2</th>\n",
       "      <th>question1_p</th>\n",
       "      <th>question2_p</th>\n",
       "      <th>similarity</th>\n",
       "    </tr>\n",
       "  </thead>\n",
       "  <tbody>\n",
       "    <tr>\n",
       "      <th>0</th>\n",
       "      <td>Paratha</td>\n",
       "      <td>Food was decent</td>\n",
       "      <td>paratha</td>\n",
       "      <td>food decent</td>\n",
       "      <td>0.096995</td>\n",
       "    </tr>\n",
       "    <tr>\n",
       "      <th>1</th>\n",
       "      <td>Paratha</td>\n",
       "      <td>gulab jamun are too good</td>\n",
       "      <td>paratha</td>\n",
       "      <td>gulab jamun good</td>\n",
       "      <td>0.292841</td>\n",
       "    </tr>\n",
       "    <tr>\n",
       "      <th>2</th>\n",
       "      <td>Paratha</td>\n",
       "      <td>home made specials</td>\n",
       "      <td>paratha</td>\n",
       "      <td>home made specials</td>\n",
       "      <td>0.184465</td>\n",
       "    </tr>\n",
       "    <tr>\n",
       "      <th>3</th>\n",
       "      <td>Paratha</td>\n",
       "      <td>pizza was thin</td>\n",
       "      <td>paratha</td>\n",
       "      <td>pizza thin</td>\n",
       "      <td>0.093448</td>\n",
       "    </tr>\n",
       "    <tr>\n",
       "      <th>4</th>\n",
       "      <td>Paratha</td>\n",
       "      <td>Seekh kebab was just okay</td>\n",
       "      <td>paratha</td>\n",
       "      <td>seekh kebab okay</td>\n",
       "      <td>0.017054</td>\n",
       "    </tr>\n",
       "    <tr>\n",
       "      <th>5</th>\n",
       "      <td>Paratha</td>\n",
       "      <td>brownie seemed stale</td>\n",
       "      <td>paratha</td>\n",
       "      <td>brownie seemed stale</td>\n",
       "      <td>0.037703</td>\n",
       "    </tr>\n",
       "    <tr>\n",
       "      <th>6</th>\n",
       "      <td>Paratha</td>\n",
       "      <td>tandoored chicken was delicious</td>\n",
       "      <td>paratha</td>\n",
       "      <td>tandoored chicken delicious</td>\n",
       "      <td>0.173765</td>\n",
       "    </tr>\n",
       "    <tr>\n",
       "      <th>7</th>\n",
       "      <td>Paratha</td>\n",
       "      <td>sauce was penty ..</td>\n",
       "      <td>paratha</td>\n",
       "      <td>sauce penty</td>\n",
       "      <td>0.249830</td>\n",
       "    </tr>\n",
       "    <tr>\n",
       "      <th>8</th>\n",
       "      <td>Paratha</td>\n",
       "      <td>food was very nice</td>\n",
       "      <td>paratha</td>\n",
       "      <td>food nice</td>\n",
       "      <td>0.201407</td>\n",
       "    </tr>\n",
       "    <tr>\n",
       "      <th>9</th>\n",
       "      <td>Paratha</td>\n",
       "      <td>Mamas sauce was yummy</td>\n",
       "      <td>paratha</td>\n",
       "      <td>mamas sauce yummy</td>\n",
       "      <td>0.218082</td>\n",
       "    </tr>\n",
       "  </tbody>\n",
       "</table>\n",
       "</div>"
      ],
      "text/plain": [
       "  question1                        question2 question1_p  \\\n",
       "0   Paratha                  Food was decent     paratha   \n",
       "1   Paratha         gulab jamun are too good     paratha   \n",
       "2   Paratha               home made specials     paratha   \n",
       "3   Paratha                   pizza was thin     paratha   \n",
       "4   Paratha        Seekh kebab was just okay     paratha   \n",
       "5   Paratha             brownie seemed stale     paratha   \n",
       "6   Paratha  tandoored chicken was delicious     paratha   \n",
       "7   Paratha               sauce was penty ..     paratha   \n",
       "8   Paratha               food was very nice     paratha   \n",
       "9   Paratha            Mamas sauce was yummy     paratha   \n",
       "\n",
       "                   question2_p  similarity  \n",
       "0                  food decent    0.096995  \n",
       "1             gulab jamun good    0.292841  \n",
       "2           home made specials    0.184465  \n",
       "3                   pizza thin    0.093448  \n",
       "4             seekh kebab okay    0.017054  \n",
       "5         brownie seemed stale    0.037703  \n",
       "6  tandoored chicken delicious    0.173765  \n",
       "7                  sauce penty    0.249830  \n",
       "8                    food nice    0.201407  \n",
       "9            mamas sauce yummy    0.218082  "
      ]
     },
     "execution_count": 111,
     "metadata": {},
     "output_type": "execute_result"
    }
   ],
   "source": [
    "results_df = pd.DataFrame(records,columns=['question1','question2','question1_p','question2_p','similarity'])\n",
    "print(results_df.shape)\n",
    "results_df.head(10)"
   ]
  },
  {
   "cell_type": "code",
   "execution_count": 210,
   "metadata": {
    "colab": {},
    "colab_type": "code",
    "id": "107Qohx0rmxJ"
   },
   "outputs": [],
   "source": [
    "# results_df.to_excel('/content/drive/My Drive/Chatbot/data/general_results.xlsx')"
   ]
  },
  {
   "cell_type": "markdown",
   "metadata": {
    "colab_type": "text",
    "id": "OCxoBwC50Rw7"
   },
   "source": [
    "#### Sort Top similar candidates"
   ]
  },
  {
   "cell_type": "code",
   "execution_count": 112,
   "metadata": {
    "colab": {},
    "colab_type": "code",
    "id": "FMLzy7yosWyA"
   },
   "outputs": [],
   "source": [
    "q1 = set(df.question1)\n",
    "q2 = set(df.question2)"
   ]
  },
  {
   "cell_type": "code",
   "execution_count": 113,
   "metadata": {},
   "outputs": [
    {
     "data": {
      "text/plain": [
       "198"
      ]
     },
     "execution_count": 113,
     "metadata": {},
     "output_type": "execute_result"
    }
   ],
   "source": [
    "len(q2)"
   ]
  },
  {
   "cell_type": "code",
   "execution_count": 114,
   "metadata": {
    "colab": {},
    "colab_type": "code",
    "id": "slgEsFxft4fA"
   },
   "outputs": [],
   "source": [
    "groups =[]\n",
    "for x in results_df.groupby('question1'):\n",
    "#   print(x[0])\n",
    "#   print(x[1].similarity)\n",
    "  groups.append(x)"
   ]
  },
  {
   "cell_type": "code",
   "execution_count": 115,
   "metadata": {
    "colab": {
     "base_uri": "https://localhost:8080/",
     "height": 218
    },
    "colab_type": "code",
    "id": "tr2DOzQ_wokS",
    "outputId": "040f5821-9ae2-44ad-d761-15ba6cc4cb19"
   },
   "outputs": [
    {
     "data": {
      "text/plain": [
       "Misal was worth it                   198\n",
       "The Chicken Wings were amazing       198\n",
       "I loved pani puri                    198\n",
       "The pizza and pasta was delicious    198\n",
       "Pizza                                198\n",
       "The food was terrible                198\n",
       "I love the pizza                     198\n",
       "The fries were terrible              198\n",
       "I like the Pasta                     198\n",
       "Pasta                                198\n",
       "Pizza was amazing                    198\n",
       "The food was amazing                 198\n",
       "dal makhni was terrble               198\n",
       "Keema pav was good                   198\n",
       "the pizza was bad                    198\n",
       "Mango juice was good                 198\n",
       "Parathas were delicious              198\n",
       "Paratha                              198\n",
       "Chicken                              198\n",
       "the food was not good                198\n",
       "The pizzas were awesome              198\n",
       "I liked Pizza                        198\n",
       "The biryani was decent               198\n",
       "Food                                 198\n",
       "Name: question1, dtype: int64"
      ]
     },
     "execution_count": 115,
     "metadata": {},
     "output_type": "execute_result"
    }
   ],
   "source": [
    "df.question1.value_counts()"
   ]
  },
  {
   "cell_type": "code",
   "execution_count": 116,
   "metadata": {
    "colab": {},
    "colab_type": "code",
    "id": "FTPGUrPWwx3w"
   },
   "outputs": [],
   "source": [
    "top_candidates=[]\n",
    "bottom_candidates=[]\n",
    "for group in groups:\n",
    "    res1 = group[1].sort_values(by='similarity',ascending=False)[['question1','question2','similarity','question1_p','question2_p']].iloc[:10]\n",
    "    res2 = group[1].sort_values(by='similarity',ascending=False)[['question1','question2','similarity','question1_p','question2_p']].iloc[:10]\n",
    "    top_candidates.append(res1)\n",
    "    bottom_candidates.append(res2)"
   ]
  },
  {
   "cell_type": "code",
   "execution_count": 117,
   "metadata": {
    "colab": {
     "base_uri": "https://localhost:8080/",
     "height": 195
    },
    "colab_type": "code",
    "id": "GPU7nrL90zRh",
    "outputId": "81846447-97e5-4591-f425-05337a3135b2"
   },
   "outputs": [
    {
     "name": "stdout",
     "output_type": "stream",
     "text": [
      "(240, 5)\n"
     ]
    },
    {
     "data": {
      "text/html": [
       "<div>\n",
       "<style scoped>\n",
       "    .dataframe tbody tr th:only-of-type {\n",
       "        vertical-align: middle;\n",
       "    }\n",
       "\n",
       "    .dataframe tbody tr th {\n",
       "        vertical-align: top;\n",
       "    }\n",
       "\n",
       "    .dataframe thead th {\n",
       "        text-align: right;\n",
       "    }\n",
       "</style>\n",
       "<table border=\"1\" class=\"dataframe\">\n",
       "  <thead>\n",
       "    <tr style=\"text-align: right;\">\n",
       "      <th></th>\n",
       "      <th>question1</th>\n",
       "      <th>question2</th>\n",
       "      <th>similarity</th>\n",
       "      <th>question1_p</th>\n",
       "      <th>question2_p</th>\n",
       "    </tr>\n",
       "  </thead>\n",
       "  <tbody>\n",
       "    <tr>\n",
       "      <th>0</th>\n",
       "      <td>Chicken</td>\n",
       "      <td>Chicken was too good</td>\n",
       "      <td>0.234482</td>\n",
       "      <td>chicken</td>\n",
       "      <td>chicken good</td>\n",
       "    </tr>\n",
       "    <tr>\n",
       "      <th>1</th>\n",
       "      <td>Chicken</td>\n",
       "      <td>Lucknowi chicken was good</td>\n",
       "      <td>0.234482</td>\n",
       "      <td>chicken</td>\n",
       "      <td>lucknowi chicken good</td>\n",
       "    </tr>\n",
       "    <tr>\n",
       "      <th>2</th>\n",
       "      <td>Chicken</td>\n",
       "      <td>tandoored chicken was delicious</td>\n",
       "      <td>0.173395</td>\n",
       "      <td>chicken</td>\n",
       "      <td>tandoored chicken delicious</td>\n",
       "    </tr>\n",
       "    <tr>\n",
       "      <th>3</th>\n",
       "      <td>Chicken</td>\n",
       "      <td>Chicken was tender</td>\n",
       "      <td>0.150997</td>\n",
       "      <td>chicken</td>\n",
       "      <td>chicken tender</td>\n",
       "    </tr>\n",
       "    <tr>\n",
       "      <th>4</th>\n",
       "      <td>Chicken</td>\n",
       "      <td>chicken dish was perfect ..</td>\n",
       "      <td>0.134056</td>\n",
       "      <td>chicken</td>\n",
       "      <td>chicken dish perfect</td>\n",
       "    </tr>\n",
       "  </tbody>\n",
       "</table>\n",
       "</div>"
      ],
      "text/plain": [
       "  question1                        question2  similarity question1_p  \\\n",
       "0   Chicken             Chicken was too good    0.234482     chicken   \n",
       "1   Chicken        Lucknowi chicken was good    0.234482     chicken   \n",
       "2   Chicken  tandoored chicken was delicious    0.173395     chicken   \n",
       "3   Chicken               Chicken was tender    0.150997     chicken   \n",
       "4   Chicken      chicken dish was perfect ..    0.134056     chicken   \n",
       "\n",
       "                   question2_p  \n",
       "0                 chicken good  \n",
       "1        lucknowi chicken good  \n",
       "2  tandoored chicken delicious  \n",
       "3               chicken tender  \n",
       "4         chicken dish perfect  "
      ]
     },
     "execution_count": 117,
     "metadata": {},
     "output_type": "execute_result"
    }
   ],
   "source": [
    "final_df = pd.concat([x for x in top_candidates]).reset_index().drop('index',axis=1)\n",
    "print(final_df.shape)\n",
    "final_df.head()"
   ]
  },
  {
   "cell_type": "code",
   "execution_count": 118,
   "metadata": {},
   "outputs": [
    {
     "data": {
      "text/plain": [
       "The fries were terrible              10\n",
       "Parathas were delicious              10\n",
       "Misal was worth it                   10\n",
       "Paratha                              10\n",
       "Pizza                                10\n",
       "I liked Pizza                        10\n",
       "Pizza was amazing                    10\n",
       "Chicken                              10\n",
       "Keema pav was good                   10\n",
       "The Chicken Wings were amazing       10\n",
       "I loved pani puri                    10\n",
       "the pizza was bad                    10\n",
       "dal makhni was terrble               10\n",
       "I like the Pasta                     10\n",
       "the food was not good                10\n",
       "I love the pizza                     10\n",
       "The pizza and pasta was delicious    10\n",
       "Pasta                                10\n",
       "Food                                 10\n",
       "The food was amazing                 10\n",
       "Mango juice was good                 10\n",
       "The biryani was decent               10\n",
       "The pizzas were awesome              10\n",
       "The food was terrible                10\n",
       "Name: question1, dtype: int64"
      ]
     },
     "execution_count": 118,
     "metadata": {},
     "output_type": "execute_result"
    }
   ],
   "source": [
    "final_df.question1.value_counts()"
   ]
  },
  {
   "cell_type": "code",
   "execution_count": 119,
   "metadata": {},
   "outputs": [],
   "source": [
    "final_df.to_csv('NVA_similarity_215.csv')"
   ]
  },
  {
   "cell_type": "code",
   "execution_count": null,
   "metadata": {},
   "outputs": [],
   "source": []
  }
 ],
 "metadata": {
  "colab": {
   "name": "Inference.ipynb",
   "provenance": []
  },
  "kernelspec": {
   "display_name": "Python 3.7 (tensorflow)",
   "language": "python",
   "name": "tensorflow"
  },
  "language_info": {
   "codemirror_mode": {
    "name": "ipython",
    "version": 3
   },
   "file_extension": ".py",
   "mimetype": "text/x-python",
   "name": "python",
   "nbconvert_exporter": "python",
   "pygments_lexer": "ipython3",
   "version": "3.7.6"
  }
 },
 "nbformat": 4,
 "nbformat_minor": 1
}
